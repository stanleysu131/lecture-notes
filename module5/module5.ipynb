{
 "cells": [
  {
   "cell_type": "code",
   "execution_count": 1,
   "metadata": {},
   "outputs": [
    {
     "data": {
      "application/javascript": [
       "IPython.notebook.set_autosave_interval(0)"
      ]
     },
     "metadata": {},
     "output_type": "display_data"
    },
    {
     "name": "stdout",
     "output_type": "stream",
     "text": [
      "Autosave disabled\n"
     ]
    }
   ],
   "source": [
    "%autosave 0"
   ]
  },
  {
   "cell_type": "markdown",
   "metadata": {},
   "source": [
    "# Equivalent vs. identical\n",
    "\n",
    "In the contexts of Python,\n",
    "\n",
    "- If two variables refer to the same object, they are identical\n",
    "    - `a is b` would be `True`\n",
    "- If two objects have the same values, they are equivalent\n",
    "\n",
    "The \"`is`\" (***not*** the same as the comparison operator `==`) operator checks if two objects are identical."
   ]
  },
  {
   "cell_type": "markdown",
   "metadata": {},
   "source": [
    "## Equivalent mutable objects are not necessarily identical\n",
    "\n",
    "- Identical-ness implies equivalent-ness\n",
    "    - If `a is b` is true, `a == b` is always true\n",
    "- Equivalent-ness does not imply identical-ness\n",
    "    - If `a == b` is true, we can not be certain `a is b`"
   ]
  },
  {
   "cell_type": "code",
   "execution_count": 2,
   "metadata": {},
   "outputs": [
    {
     "data": {
      "text/plain": [
       "False"
      ]
     },
     "execution_count": 2,
     "metadata": {},
     "output_type": "execute_result"
    }
   ],
   "source": [
    "# These two lists are equivalent (having same elements), but not identical\n",
    "\n",
    "a = [1, 2, 3]\n",
    "b = [1, 2, 3]\n",
    "\n",
    "a is b"
   ]
  },
  {
   "cell_type": "code",
   "execution_count": 3,
   "metadata": {},
   "outputs": [
    {
     "data": {
      "text/plain": [
       "True"
      ]
     },
     "execution_count": 3,
     "metadata": {},
     "output_type": "execute_result"
    }
   ],
   "source": [
    "a == b"
   ]
  },
  {
   "cell_type": "code",
   "execution_count": 4,
   "metadata": {},
   "outputs": [
    {
     "data": {
      "text/plain": [
       "([1, 2, 3], [1, 2, 3, 99])"
      ]
     },
     "execution_count": 4,
     "metadata": {},
     "output_type": "execute_result"
    }
   ],
   "source": [
    "# Since they are not identical, changing b does not affect a\n",
    "\n",
    "b.append(99)\n",
    "a, b"
   ]
  },
  {
   "cell_type": "markdown",
   "metadata": {},
   "source": [
    "## identical mutable objects  -- be careful of this behavior of Python!"
   ]
  },
  {
   "cell_type": "code",
   "execution_count": 5,
   "metadata": {},
   "outputs": [
    {
     "data": {
      "text/plain": [
       "True"
      ]
     },
     "execution_count": 5,
     "metadata": {},
     "output_type": "execute_result"
    }
   ],
   "source": [
    "a = [1, 2, 3]\n",
    "b = a\n",
    "a is b"
   ]
  },
  {
   "cell_type": "code",
   "execution_count": 6,
   "metadata": {},
   "outputs": [
    {
     "data": {
      "text/plain": [
       "True"
      ]
     },
     "execution_count": 6,
     "metadata": {},
     "output_type": "execute_result"
    }
   ],
   "source": [
    "a == b"
   ]
  },
  {
   "cell_type": "code",
   "execution_count": 7,
   "metadata": {},
   "outputs": [
    {
     "data": {
      "text/plain": [
       "([1, 2, 3, 99], [1, 2, 3, 99])"
      ]
     },
     "execution_count": 7,
     "metadata": {},
     "output_type": "execute_result"
    }
   ],
   "source": [
    "# changing b also changes a\n",
    "b.append(99)\n",
    "a, b"
   ]
  },
  {
   "cell_type": "markdown",
   "metadata": {},
   "source": [
    "## immutable objects"
   ]
  },
  {
   "cell_type": "markdown",
   "metadata": {},
   "source": [
    "### numbers"
   ]
  },
  {
   "cell_type": "code",
   "execution_count": 8,
   "metadata": {},
   "outputs": [
    {
     "data": {
      "text/plain": [
       "True"
      ]
     },
     "execution_count": 8,
     "metadata": {},
     "output_type": "execute_result"
    }
   ],
   "source": [
    "a = 3\n",
    "b = 3\n",
    "a is b"
   ]
  },
  {
   "cell_type": "code",
   "execution_count": 9,
   "metadata": {},
   "outputs": [
    {
     "data": {
      "text/plain": [
       "True"
      ]
     },
     "execution_count": 9,
     "metadata": {},
     "output_type": "execute_result"
    }
   ],
   "source": [
    "a == b"
   ]
  },
  {
   "cell_type": "markdown",
   "metadata": {},
   "source": [
    "### strings"
   ]
  },
  {
   "cell_type": "code",
   "execution_count": 10,
   "metadata": {},
   "outputs": [
    {
     "data": {
      "text/plain": [
       "True"
      ]
     },
     "execution_count": 10,
     "metadata": {},
     "output_type": "execute_result"
    }
   ],
   "source": [
    "a = 'banana'\n",
    "b = 'banana'\n",
    "a is b"
   ]
  },
  {
   "cell_type": "code",
   "execution_count": 11,
   "metadata": {},
   "outputs": [
    {
     "data": {
      "text/plain": [
       "True"
      ]
     },
     "execution_count": 11,
     "metadata": {},
     "output_type": "execute_result"
    }
   ],
   "source": [
    "a == b"
   ]
  },
  {
   "cell_type": "markdown",
   "metadata": {},
   "source": [
    "### tuples"
   ]
  },
  {
   "cell_type": "code",
   "execution_count": 12,
   "metadata": {},
   "outputs": [
    {
     "data": {
      "text/plain": [
       "True"
      ]
     },
     "execution_count": 12,
     "metadata": {},
     "output_type": "execute_result"
    }
   ],
   "source": [
    "a = (3,5,7)\n",
    "b = (3,5,7)\n",
    "a == b"
   ]
  },
  {
   "cell_type": "code",
   "execution_count": 13,
   "metadata": {},
   "outputs": [
    {
     "data": {
      "text/plain": [
       "False"
      ]
     },
     "execution_count": 13,
     "metadata": {},
     "output_type": "execute_result"
    }
   ],
   "source": [
    "a is b"
   ]
  },
  {
   "cell_type": "markdown",
   "metadata": {},
   "source": [
    "### examples"
   ]
  },
  {
   "cell_type": "code",
   "execution_count": 14,
   "metadata": {},
   "outputs": [
    {
     "data": {
      "text/plain": [
       "'apple'"
      ]
     },
     "execution_count": 14,
     "metadata": {},
     "output_type": "execute_result"
    }
   ],
   "source": [
    "a = 'apple'\n",
    "b = a\n",
    "a = 'orange'\n",
    "b"
   ]
  },
  {
   "cell_type": "code",
   "execution_count": 15,
   "metadata": {},
   "outputs": [
    {
     "data": {
      "text/plain": [
       "(3, 5, 7)"
      ]
     },
     "execution_count": 15,
     "metadata": {},
     "output_type": "execute_result"
    }
   ],
   "source": [
    "a = (3,5,7)\n",
    "b = a\n",
    "a = (1,2,3)\n",
    "b"
   ]
  },
  {
   "cell_type": "markdown",
   "metadata": {},
   "source": [
    "# List - revisit\n",
    "\n",
    "One of the most important Python object types"
   ]
  },
  {
   "cell_type": "markdown",
   "metadata": {},
   "source": [
    "- list is mutable\n",
    "- Most (not all) list methods modifies the list and returns `None`"
   ]
  },
  {
   "cell_type": "code",
   "execution_count": 16,
   "metadata": {
    "collapsed": true
   },
   "outputs": [],
   "source": [
    "# What's wrong with this statement\n",
    "\n",
    "a = [1,2,3,4]\n",
    "a = a.append(5)\n",
    "# a = ?"
   ]
  },
  {
   "cell_type": "code",
   "execution_count": 17,
   "metadata": {
    "collapsed": true
   },
   "outputs": [],
   "source": [
    "# What's wrong with this function?\n",
    "\n",
    "def myfunc1(a):\n",
    "    a = a.append(-99)\n",
    "    return a"
   ]
  },
  {
   "cell_type": "markdown",
   "metadata": {},
   "source": [
    "## Read the documentation"
   ]
  },
  {
   "cell_type": "code",
   "execution_count": 18,
   "metadata": {},
   "outputs": [
    {
     "name": "stdout",
     "output_type": "stream",
     "text": [
      "Help on built-in function append:\n",
      "\n",
      "append(...) method of builtins.list instance\n",
      "    L.append(object) -> None -- append object to end\n",
      "\n"
     ]
    }
   ],
   "source": [
    "a = []\n",
    "help(a.append)"
   ]
  },
  {
   "cell_type": "markdown",
   "metadata": {},
   "source": [
    "## Deleting elements in a list\n",
    "\n",
    "1. del\n",
    "2. pop(index)\n",
    "3. remove(element)"
   ]
  },
  {
   "cell_type": "code",
   "execution_count": 19,
   "metadata": {},
   "outputs": [
    {
     "data": {
      "text/plain": [
       "['a', 'b', 'd']"
      ]
     },
     "execution_count": 19,
     "metadata": {},
     "output_type": "execute_result"
    }
   ],
   "source": [
    "a = ['a', 'b', 'c', 'd']\n",
    "a.pop(2)\n",
    "a"
   ]
  },
  {
   "cell_type": "code",
   "execution_count": 20,
   "metadata": {},
   "outputs": [
    {
     "name": "stdout",
     "output_type": "stream",
     "text": [
      "Help on built-in function pop:\n",
      "\n",
      "pop(...) method of builtins.list instance\n",
      "    L.pop([index]) -> item -- remove and return item at index (default last).\n",
      "    Raises IndexError if list is empty or index is out of range.\n",
      "\n"
     ]
    }
   ],
   "source": [
    "help(a.pop)"
   ]
  },
  {
   "cell_type": "code",
   "execution_count": 21,
   "metadata": {},
   "outputs": [
    {
     "data": {
      "text/plain": [
       "['a', 'b', 'd', 'x']"
      ]
     },
     "execution_count": 21,
     "metadata": {},
     "output_type": "execute_result"
    }
   ],
   "source": [
    "# add a few elements\n",
    "a.append('x')\n",
    "a"
   ]
  },
  {
   "cell_type": "code",
   "execution_count": 22,
   "metadata": {},
   "outputs": [
    {
     "data": {
      "text/plain": [
       "['a', 'x']"
      ]
     },
     "execution_count": 22,
     "metadata": {},
     "output_type": "execute_result"
    }
   ],
   "source": [
    "del a[1:3]\n",
    "a"
   ]
  },
  {
   "cell_type": "code",
   "execution_count": 23,
   "metadata": {},
   "outputs": [
    {
     "data": {
      "text/plain": [
       "['x']"
      ]
     },
     "execution_count": 23,
     "metadata": {},
     "output_type": "execute_result"
    }
   ],
   "source": [
    "a.remove('a')\n",
    "a"
   ]
  },
  {
   "cell_type": "code",
   "execution_count": 24,
   "metadata": {},
   "outputs": [
    {
     "name": "stdout",
     "output_type": "stream",
     "text": [
      "Help on built-in function remove:\n",
      "\n",
      "remove(...) method of builtins.list instance\n",
      "    L.remove(value) -> None -- remove first occurrence of value.\n",
      "    Raises ValueError if the value is not present.\n",
      "\n"
     ]
    }
   ],
   "source": [
    "help(a.remove)"
   ]
  },
  {
   "cell_type": "markdown",
   "metadata": {},
   "source": [
    "## Utility functions for lists\n",
    "\n",
    "- len(list)\n",
    "- max(list)\n",
    "- min(list)\n",
    "- sum(list)   # for numbers"
   ]
  },
  {
   "cell_type": "code",
   "execution_count": 25,
   "metadata": {},
   "outputs": [
    {
     "data": {
      "text/plain": [
       "(45, 9, 1, 9)"
      ]
     },
     "execution_count": 25,
     "metadata": {},
     "output_type": "execute_result"
    }
   ],
   "source": [
    "a = [1,2,3,4,5,6,7,8,9]\n",
    "sum(a), max(a), min(a), len(a)"
   ]
  },
  {
   "cell_type": "code",
   "execution_count": 26,
   "metadata": {},
   "outputs": [
    {
     "name": "stdout",
     "output_type": "stream",
     "text": [
      "5.0\n"
     ]
    }
   ],
   "source": [
    "avg = sum(a) / len(a)\n",
    "print(avg)"
   ]
  },
  {
   "cell_type": "markdown",
   "metadata": {},
   "source": [
    "## Some examples"
   ]
  },
  {
   "cell_type": "markdown",
   "metadata": {},
   "source": [
    "t = [1,2,3]\n",
    "\n",
    "To append elements, use\n",
    "\n",
    "- t.append(99)\n",
    "- t = t + [99]"
   ]
  },
  {
   "cell_type": "code",
   "execution_count": 27,
   "metadata": {},
   "outputs": [
    {
     "data": {
      "text/plain": [
       "[1, 2, 3, 99]"
      ]
     },
     "execution_count": 27,
     "metadata": {},
     "output_type": "execute_result"
    }
   ],
   "source": [
    "t = [1,2,3]\n",
    "t = t + [99]   # or t.append(99)\n",
    "t"
   ]
  },
  {
   "cell_type": "markdown",
   "metadata": {},
   "source": [
    "These are wrong:\n",
    "\n",
    "```\n",
    "t.append([99])     # valid syntax but probably want you want\n",
    "t = t.append(99)   # destroys \"t\"!\n",
    "t + [99]           # does not append\n",
    "t = t + 99         # wrong: 99 is not a list\n",
    "```"
   ]
  },
  {
   "cell_type": "markdown",
   "metadata": {},
   "source": [
    "# String - revisit"
   ]
  },
  {
   "cell_type": "markdown",
   "metadata": {},
   "source": [
    "- Strings are immutable\n",
    "- Most (not all) string methods returns a new string."
   ]
  },
  {
   "cell_type": "markdown",
   "metadata": {},
   "source": [
    "## strings and lists\n",
    "\n",
    "Some functions that convert strings to or from lists"
   ]
  },
  {
   "cell_type": "code",
   "execution_count": 3,
   "metadata": {},
   "outputs": [
    {
     "data": {
      "text/plain": [
       "'Today Is A Good Day'"
      ]
     },
     "execution_count": 3,
     "metadata": {},
     "output_type": "execute_result"
    }
   ],
   "source": [
    "# join elements of a list into a string\n",
    "a = ['Today', 'Is', 'A', 'Good', 'Day']\n",
    "x = ' '.join(a)\n",
    "x"
   ]
  },
  {
   "cell_type": "code",
   "execution_count": 29,
   "metadata": {},
   "outputs": [
    {
     "data": {
      "text/plain": [
       "'Today---Is---A---Good---Day'"
      ]
     },
     "execution_count": 29,
     "metadata": {},
     "output_type": "execute_result"
    }
   ],
   "source": [
    "a = ['Today', 'Is', 'A', 'Good', 'Day']\n",
    "y = '---'.join(a)\n",
    "y"
   ]
  },
  {
   "cell_type": "code",
   "execution_count": 9,
   "metadata": {},
   "outputs": [
    {
     "data": {
      "text/plain": [
       "['Today', 'is', 'a', 'good', 'day']"
      ]
     },
     "execution_count": 9,
     "metadata": {},
     "output_type": "execute_result"
    }
   ],
   "source": [
    "# split a string into a list\n",
    "\n",
    "a = 'Today is a good day'\n",
    "a = a.split()                    # by default, ' ' is the delimiter\n",
    "a"
   ]
  },
  {
   "cell_type": "code",
   "execution_count": 10,
   "metadata": {},
   "outputs": [
    {
     "data": {
      "text/plain": [
       "['Today', 'is', 'a', 'good', 'day']"
      ]
     },
     "execution_count": 10,
     "metadata": {},
     "output_type": "execute_result"
    }
   ],
   "source": [
    "b = 'Today-is-a-good-day'\n",
    "b = b.split('-')                 # specify '-' to be the delimiter\n",
    "b"
   ]
  },
  {
   "cell_type": "markdown",
   "metadata": {},
   "source": [
    "# sqlite technique: batch insert/update\n",
    "\n",
    "Combine data in Python containers and update/insert in one `cursor.executemany()` (instead of `cursor.execute()`)"
   ]
  },
  {
   "cell_type": "code",
   "execution_count": 11,
   "metadata": {
    "collapsed": true
   },
   "outputs": [],
   "source": [
    "import sqlite3\n",
    "\n",
    "conn = sqlite3.connect('mydb.sqlite')\n",
    "cur = conn.cursor()\n",
    "\n",
    "cur.execute('DROP TABLE IF EXISTS mytable')\n",
    "cur.execute('CREATE TABLE mytable (name TEXT, address TEXT, phone TEXT)')\n",
    "\n",
    "# pack data in a container\n",
    "\n",
    "data = [\n",
    "        ('John', '101 Westwood, Los Angeles', '123-456'),\n",
    "        ('Jane', '95 Hollywood, Los Angeles', '246-000'),\n",
    "        ('Jim', '88 Pico Blvd, Los Angeles', '333-333')\n",
    "    ]\n",
    "\n",
    "# execute at once\n",
    "\n",
    "cur.executemany('INSERT INTO mytable (name, address, phone) \\\n",
    "                VALUES (?,?,?)', data)\n",
    "\n",
    "conn.commit()\n",
    "conn.close()"
   ]
  },
  {
   "cell_type": "code",
   "execution_count": 12,
   "metadata": {},
   "outputs": [
    {
     "name": "stdout",
     "output_type": "stream",
     "text": [
      "John|101 Westwood, Los Angeles|123-456\r\n",
      "Jane|95 Hollywood, Los Angeles|246-000\r\n",
      "Jim|88 Pico Blvd, Los Angeles|333-333\r\n"
     ]
    }
   ],
   "source": [
    "# check db\n",
    "! sqlite3 mydb.sqlite \"select * from mytable\""
   ]
  },
  {
   "cell_type": "code",
   "execution_count": 34,
   "metadata": {
    "collapsed": true
   },
   "outputs": [],
   "source": [
    "! rm -f mydb.sqlite   # clean up"
   ]
  },
  {
   "cell_type": "markdown",
   "metadata": {},
   "source": [
    "# sqlite -- accessing by column names\n"
   ]
  },
  {
   "cell_type": "code",
   "execution_count": 1,
   "metadata": {},
   "outputs": [
    {
     "name": "stdout",
     "output_type": "stream",
     "text": [
      "John          123-456\n",
      "Jane          246-000\n",
      "Jim           333-333\n"
     ]
    }
   ],
   "source": [
    "import sqlite3\n",
    "\n",
    "conn = sqlite3.connect('data/mydb.sqlite')\n",
    "\n",
    "conn.row_factory = sqlite3.Row        # enable access by column names\n",
    "\n",
    "cur = conn.execute('SELECT * from mytable')\n",
    "for row in cur:\n",
    "    print('{:<10s} {:>10s}'.format(row['name'], row['phone']))\n",
    "\n",
    "conn.close()"
   ]
  },
  {
   "cell_type": "markdown",
   "metadata": {},
   "source": [
    "## Capture the query results in a list -- `fetchall()`"
   ]
  },
  {
   "cell_type": "code",
   "execution_count": 2,
   "metadata": {},
   "outputs": [
    {
     "name": "stdout",
     "output_type": "stream",
     "text": [
      "[('John', '101 Westwood, Los Angeles', '123-456'), ('Jane', '95 Hollywood, Los Angeles', '246-000'), ('Jim', '88 Pico Blvd, Los Angeles', '333-333')]\n"
     ]
    }
   ],
   "source": [
    "import sqlite3\n",
    "\n",
    "conn = sqlite3.connect('data/mydb.sqlite')\n",
    "cur = conn.execute('SELECT * from mytable')\n",
    "\n",
    "x = cur.fetchall()\n",
    "\n",
    "conn.close()\n",
    "print(x)"
   ]
  },
  {
   "cell_type": "markdown",
   "metadata": {},
   "source": [
    "## A word about cursor buffer\n",
    "\n",
    "The cursor buffer is emptied after access"
   ]
  },
  {
   "cell_type": "code",
   "execution_count": 3,
   "metadata": {},
   "outputs": [
    {
     "name": "stdout",
     "output_type": "stream",
     "text": [
      "after fetchall, x = [('John', '101 Westwood, Los Angeles', '123-456'), ('Jane', '95 Hollywood, Los Angeles', '246-000'), ('Jim', '88 Pico Blvd, Los Angeles', '333-333')]\n",
      "fetch again, x2 = []\n"
     ]
    }
   ],
   "source": [
    "import sqlite3\n",
    "\n",
    "conn = sqlite3.connect('data/mydb.sqlite')\n",
    "cur = conn.execute('SELECT * from mytable')\n",
    "x = cur.fetchall()\n",
    "\n",
    "print(\"after fetchall, x =\", x)\n",
    "\n",
    "# At this point, the cursor's buffer has been emptied (by the \"fetch\")\n",
    "# fetch again\n",
    "\n",
    "x2 = cur.fetchall()\n",
    "print('fetch again, x2 =',x2)\n",
    "\n",
    "conn.close()"
   ]
  },
  {
   "cell_type": "markdown",
   "metadata": {},
   "source": [
    "# Try... except...\n",
    "\n",
    "Capture expected/unexpected errors and prevent crash"
   ]
  },
  {
   "cell_type": "code",
   "execution_count": 4,
   "metadata": {},
   "outputs": [
    {
     "name": "stdout",
     "output_type": "stream",
     "text": [
      "John\r\n",
      "Mary\r\n",
      "Jane\r\n",
      "Jack\r\n",
      "Lily\r\n"
     ]
    }
   ],
   "source": [
    "! rm -f db1.sqlite\n",
    "# example of inserting duplicate items\n",
    "\n",
    "import sqlite3\n",
    "conn = sqlite3.connect('db1.sqlite')\n",
    "cur = conn.cursor()\n",
    "cur = conn.execute('DROP TABLE IF EXISTS mytable')\n",
    "cur.execute('CREATE TABLE mytable (name TEXT UNIQUE)')    # note the \"UNIQUE\" constraint\n",
    "\n",
    "for x in ['John', 'Mary', 'Jane'] + ['Jack', 'Lily']:\n",
    "#for x in ['John', 'Mary', 'Jane'] + ['John'] + ['Jack', 'Lily']:   # duplicate item causes error!\n",
    "\n",
    "    cur.execute('INSERT INTO mytable (name) VALUES (?)', (x,))\n",
    "    \n",
    "conn.commit()\n",
    "\n",
    "! sqlite3 db1.sqlite \"select * from mytable\""
   ]
  },
  {
   "cell_type": "code",
   "execution_count": 6,
   "metadata": {},
   "outputs": [
    {
     "name": "stdout",
     "output_type": "stream",
     "text": [
      "There is an insert error... ignore x =  John\n",
      "John\r\n",
      "Mary\r\n",
      "Jane\r\n",
      "Jack\r\n",
      "Lily\r\n"
     ]
    }
   ],
   "source": [
    "!rm -f db1.sqlite\n",
    "\n",
    "conn = sqlite3.connect('db1.sqlite')\n",
    "conn = sqlite3.connect('db1.sqlite')\n",
    "cur = conn.cursor()\n",
    "cur = conn.execute('DROP TABLE IF EXISTS mytable')\n",
    "cur.execute('CREATE TABLE mytable (name TEXT UNIQUE)') \n",
    "\n",
    "for x in ['John', 'Mary', 'Jane'] + ['John'] + ['Jack', 'Lily']:   # contains duplicate item\n",
    "\n",
    "    try:      # protect the possible error by try-except\n",
    "        cur.execute('INSERT INTO mytable (name) VALUES (?)', (x,))\n",
    "    except:\n",
    "        print(\"There is an insert error... ignore x = \", x)\n",
    "        continue\n",
    "    \n",
    "conn.commit()\n",
    "conn.close()\n",
    "\n",
    "! sqlite3 db1.sqlite \"select * from mytable\""
   ]
  },
  {
   "cell_type": "markdown",
   "metadata": {},
   "source": [
    "- When the \"try\" action fails, the control falls into \"except\".\n",
    "- Try-except has many other uses"
   ]
  },
  {
   "cell_type": "markdown",
   "metadata": {},
   "source": [
    "## Since you cannot guarantee the run time environment, it is a good idea to protect the code from possible crash by using try/except.\n",
    "\n",
    "Another common example - trying to open a file that does not exist:"
   ]
  },
  {
   "cell_type": "code",
   "execution_count": 40,
   "metadata": {},
   "outputs": [
    {
     "name": "stdout",
     "output_type": "stream",
     "text": [
      "program starts...\n",
      "program continues...\n"
     ]
    }
   ],
   "source": [
    "# What if the file does not exist\n",
    "\n",
    "print('program starts...')\n",
    "\n",
    "#f = open('myfile.txt', 'r')\n",
    "#x = f.reads()\n",
    "#f.close()\n",
    "\n",
    "print('program continues...')"
   ]
  },
  {
   "cell_type": "code",
   "execution_count": 41,
   "metadata": {},
   "outputs": [
    {
     "name": "stdout",
     "output_type": "stream",
     "text": [
      "program starts...\n",
      "file open error\n",
      "program continues...\n"
     ]
    }
   ],
   "source": [
    "# code protected by try-except:\n",
    "\n",
    "print('program starts...')\n",
    "\n",
    "try:\n",
    "    f = open('myfile.txt', 'r')\n",
    "    x = f.reads()\n",
    "    f.close()\n",
    "except:\n",
    "    print('file open error')\n",
    "    pass\n",
    "\n",
    "print('program continues...')"
   ]
  },
  {
   "cell_type": "markdown",
   "metadata": {
    "collapsed": true
   },
   "source": [
    "# XML parsing example\n",
    "\n"
   ]
  },
  {
   "cell_type": "markdown",
   "metadata": {},
   "source": [
    "XML example\n",
    "\n",
    "```xml\n",
    "<person>\n",
    "  <name>John</name>\n",
    "  <phone type=\"intl\">\n",
    "    +1 310 123 4567\n",
    "  </phone>\n",
    "  <email hide=\"yes\"/>\n",
    "</person>\n",
    "\n",
    "```\n",
    "\n",
    "For more information about XML, see, e.g. https://en.wikipedia.org/wiki/XML and other references"
   ]
  },
  {
   "cell_type": "code",
   "execution_count": 7,
   "metadata": {},
   "outputs": [
    {
     "name": "stdout",
     "output_type": "stream",
     "text": [
      "Name =  John\n",
      "Attr =  yes\n"
     ]
    }
   ],
   "source": [
    "import xml.etree.ElementTree as ET\n",
    "\n",
    "with open('xml.xml', 'r') as f:\n",
    "    data = f.read()\n",
    "    \n",
    "tree = ET.fromstring(data)    # read in XML as a tree structure\n",
    "\n",
    "print('Name = ', tree.find('name').text )           # get a value\n",
    "print('Attr = ', tree.find('email').get('hide') )   # get an attribute"
   ]
  },
  {
   "cell_type": "markdown",
   "metadata": {},
   "source": [
    "## Accessing multiple nodes in XML"
   ]
  },
  {
   "cell_type": "code",
   "execution_count": 8,
   "metadata": {},
   "outputs": [
    {
     "name": "stdout",
     "output_type": "stream",
     "text": [
      "Name =  Marie\n",
      "id   =  023\n",
      "Name =  Bret\n",
      "id   =  023\n"
     ]
    }
   ],
   "source": [
    "with open('xml2.xml', 'r') as f:\n",
    "    data = f.read()\n",
    "\n",
    "import xml.etree.ElementTree as ET\n",
    "\n",
    "myxml = ET.fromstring(data)\n",
    "ulist = myxml.findall('users/user')   # find all user under \"users\"\n",
    "\n",
    "for x in ulist:\n",
    "    print('Name = ', x.find('name').text  )\n",
    "    print('id   = ', x.find('id').text  )"
   ]
  },
  {
   "cell_type": "markdown",
   "metadata": {},
   "source": [
    "# JSON \n",
    "\n",
    "Another popular format for data exchange.\n",
    "\n",
    "```json\n",
    "{\n",
    "    \"glossary\": {\n",
    "        \"title\": \"example glossary\",\n",
    "        \"GlossDiv\": {\n",
    "            \"title\": \"S\",\n",
    "            \"GlossList\": {\n",
    "                \"GlossEntry\": {\n",
    "                    \"ID\": \"SGML\",\n",
    "                    \"SortAs\": \"SGML\",\n",
    "                    \"GlossTerm\": \"Standard Generalized Markup Language\",\n",
    "                    \"Acronym\": \"SGML\",\n",
    "                    \"Abbrev\": \"ISO 8879:1986\",\n",
    "                    \"GlossDef\": {\n",
    "                        \"para\": \"A meta-markup language, used to create markup languages such as DocBook.\",\n",
    "                        \"GlossSeeAlso\": [\"GML\", \"XML\"]\n",
    "                    },\n",
    "                    \"GlossSee\": \"markup\"\n",
    "                }\n",
    "            }\n",
    "        }\n",
    "    }\n",
    "}\n",
    "```\n",
    "\n",
    "For more info, see,  http://json.org"
   ]
  },
  {
   "cell_type": "code",
   "execution_count": 9,
   "metadata": {},
   "outputs": [
    {
     "name": "stdout",
     "output_type": "stream",
     "text": [
      "[{'id': '015', 'x': '6', 'name': 'John'}, {'id': '023', 'x': '2', 'name': 'Marie'}]\n"
     ]
    }
   ],
   "source": [
    "import json\n",
    "\n",
    "with open('json.json', 'r') as f:\n",
    "    data = f.read()\n",
    "\n",
    "info = json.loads(data) # load a string in JSON format into a Python object\n",
    "print(info)"
   ]
  },
  {
   "cell_type": "code",
   "execution_count": 45,
   "metadata": {},
   "outputs": [
    {
     "name": "stdout",
     "output_type": "stream",
     "text": [
      "John\n",
      "Marie\n"
     ]
    }
   ],
   "source": [
    "for item in info:\n",
    "    print(item['name'])"
   ]
  },
  {
   "cell_type": "markdown",
   "metadata": {},
   "source": [
    "## Google API example"
   ]
  },
  {
   "cell_type": "code",
   "execution_count": 11,
   "metadata": {
    "collapsed": true
   },
   "outputs": [],
   "source": [
    "import json\n",
    "import urllib.request\n",
    "\n",
    "u = urllib.request.urlopen('https://maps.googleapis.com/maps/api/geocode/json?' \\\n",
    "        + 'address=10920+Wilshire+Blvd,+Los+Angeles,+CA')\n",
    "X = u.read().decode()\n",
    "data = json.loads(X)"
   ]
  },
  {
   "cell_type": "code",
   "execution_count": 47,
   "metadata": {},
   "outputs": [
    {
     "data": {
      "text/plain": [
       "('270 mi', '3 hours 59 mins')"
      ]
     },
     "execution_count": 47,
     "metadata": {},
     "output_type": "execute_result"
    }
   ],
   "source": [
    "dist = data['routes'][0]['legs'][0]['distance']['text']\n",
    "hrs  = data['routes'][0]['legs'][0]['duration']['text']\n",
    "dist, hrs"
   ]
  },
  {
   "cell_type": "code",
   "execution_count": 48,
   "metadata": {
    "scrolled": true
   },
   "outputs": [
    {
     "name": "stdout",
     "output_type": "stream",
     "text": [
      "{'lng': -115.1400648, 'lat': 36.1700407} 0.3 mi\n",
      "{'lng': -115.1375362, 'lat': 36.1740114} 0.5 mi\n",
      "{'lng': -115.1470402, 'lat': 36.1755085} 213 mi\n",
      "{'lng': -117.4245959, 'lat': 34.2359756} 0.2 mi\n",
      "{'lng': -117.4221337, 'lat': 34.2338686} 8.5 mi\n",
      "{'lng': -117.4897241, 'lat': 34.1417205} 20.4 mi\n",
      "{'lng': -117.8376877, 'lat': 34.1201962} 6.9 mi\n",
      "{'lng': -117.9518111, 'lat': 34.1329229} 0.5 mi\n",
      "{'lng': -117.9587954, 'lat': 34.1328414} 5.0 mi\n",
      "{'lng': -117.9998834, 'lat': 34.0718816} 0.1 mi\n",
      "{'lng': -118.0006631, 'lat': 34.0699887} 12.1 mi\n",
      "{'lng': -118.1989829, 'lat': 34.0554493} 1.7 mi\n",
      "{'lng': -118.2263097, 'lat': 34.0527432} 0.5 mi\n",
      "{'lng': -118.2347118, 'lat': 34.0539314} 486 ft\n",
      "{'lng': -118.2362886, 'lat': 34.0541182} 499 ft\n",
      "{'lng': -118.2378621, 'lat': 34.0545133} 466 ft\n",
      "{'lng': -118.2391159, 'lat': 34.0552486} 0.3 mi\n",
      "{'lng': -118.2424119, 'lat': 34.0515342} 463 ft\n"
     ]
    }
   ],
   "source": [
    "for x in data['routes'][0]['legs'][0]['steps']:\n",
    "    print(x['start_location'], x['distance']['text'])"
   ]
  },
  {
   "cell_type": "markdown",
   "metadata": {},
   "source": [
    "https://www.google.com/maps/dir/Las+Vegas,+Nevada/Los+Angeles,+CA/@35.0426638,-117.8116339,8z/data=!3m1!4b1!4m14!4m13!1m5!1m1!1s0x80beb782a4f57dd1:0x3accd5e6d5b379a3!2m2!1d-115.1398296!2d36.1699412!1m5!1m1!1s0x80c2c75ddc27da13:0xe22fdf6f254608f4!2m2!1d-118.2436849!2d34.0522342!3e0"
   ]
  },
  {
   "cell_type": "markdown",
   "metadata": {
    "collapsed": true
   },
   "source": [
    "# File and path\n",
    "\n",
    "The `os` module has a lot of useful tools.\n",
    "\n",
    "```python\n",
    "import os\n",
    "```\n",
    "\n",
    "- Linux and Mac use the UNIX-style path, e.g. `/Users/your_name/Desktop`\n",
    "- Windows use a different path, e.g. `C:\\\\Users\\\\your_name\\\\Desktop`\n",
    "\n",
    "Python program can be made cross-platform (same code runs on both Windows and UNIX), if you use the correct function calls to construct path names. \n",
    "\n",
    "Using the `/` (on UNIX) or `\\\\` (on Windows) in path names makes your Python code non-cross-platform.\n"
   ]
  },
  {
   "cell_type": "code",
   "execution_count": 49,
   "metadata": {},
   "outputs": [
    {
     "name": "stdout",
     "output_type": "stream",
     "text": [
      "current directory =  /home/schuang/git/pyclass-2017\n"
     ]
    }
   ],
   "source": [
    "# the current dirctory\n",
    "\n",
    "import os\n",
    "cwd = os.getcwd()\n",
    "print(\"current directory = \", cwd)"
   ]
  },
  {
   "cell_type": "code",
   "execution_count": 50,
   "metadata": {},
   "outputs": [
    {
     "data": {
      "text/plain": [
       "['Lecture01Notes.pdf',\n",
       " 'pi.py',\n",
       " '__pycache__',\n",
       " 'info.synctex.gz',\n",
       " 'Lecture02Notes.ipynb',\n",
       " 'info.tex',\n",
       " 'hw3',\n",
       " 'info.log',\n",
       " 'info.aux',\n",
       " 'Lecture04Notes.ipynb',\n",
       " 'db1.sqlite',\n",
       " 'Lecture01Notes.ipynb',\n",
       " 'fig',\n",
       " 'Lecture05Notes.ipynb',\n",
       " 'Lecture03Notes.ipynb',\n",
       " 'info.pdf',\n",
       " 'hw1',\n",
       " '.gitignore',\n",
       " 'HW4solutions.ipynb',\n",
       " 'quiz1',\n",
       " 'Lecture04Notes.pdf',\n",
       " 'data',\n",
       " '.ipynb_checkpoints',\n",
       " 'hw2',\n",
       " '.git',\n",
       " 'Lecture03Notes.pdf',\n",
       " 'Lecture02Notes.pdf',\n",
       " 'pandoc_latex_include']"
      ]
     },
     "execution_count": 50,
     "metadata": {},
     "output_type": "execute_result"
    }
   ],
   "source": [
    "# list files\n",
    "\n",
    "os.listdir(cwd)"
   ]
  },
  {
   "cell_type": "markdown",
   "metadata": {},
   "source": [
    "## join path and file name"
   ]
  },
  {
   "cell_type": "code",
   "execution_count": 51,
   "metadata": {
    "collapsed": true
   },
   "outputs": [],
   "source": [
    "## home directory\n",
    "\n",
    "homedir = os.path.expanduser('~')    # works on both UNIX and Windows"
   ]
  },
  {
   "cell_type": "code",
   "execution_count": 52,
   "metadata": {},
   "outputs": [
    {
     "data": {
      "text/plain": [
       "'/home/schuang/Desktop'"
      ]
     },
     "execution_count": 52,
     "metadata": {},
     "output_type": "execute_result"
    }
   ],
   "source": [
    "root = os.path.expanduser('~')\n",
    "dir = 'Desktop'\n",
    "os.path.join(root, dir)    # on Windows, the path will automatically use `\\\\`"
   ]
  },
  {
   "cell_type": "code",
   "execution_count": 53,
   "metadata": {},
   "outputs": [
    {
     "data": {
      "text/plain": [
       "False"
      ]
     },
     "execution_count": 53,
     "metadata": {},
     "output_type": "execute_result"
    }
   ],
   "source": [
    "# check if a file is a file\n",
    "homedir =  os.path.expanduser('~')   \n",
    "f = os.path.join(homedir, 'git', 'pyclass-2017')   # this is a directory\n",
    "os.path.isfile(f) "
   ]
  },
  {
   "cell_type": "code",
   "execution_count": 54,
   "metadata": {},
   "outputs": [
    {
     "data": {
      "text/plain": [
       "True"
      ]
     },
     "execution_count": 54,
     "metadata": {},
     "output_type": "execute_result"
    }
   ],
   "source": [
    "f = os.path.join(homedir, 'git', 'pyclass-2017', 'info.tex')  # this is a file\n",
    "os.path.isfile(f)  "
   ]
  },
  {
   "cell_type": "code",
   "execution_count": 55,
   "metadata": {},
   "outputs": [
    {
     "name": "stdout",
     "output_type": "stream",
     "text": [
      "Lecture01Notes.pdf                       .................[o]\n",
      "pi.py                                    .................[o]\n",
      "__pycache__                              .................[x]\n",
      "info.synctex.gz                          .................[o]\n",
      "Lecture02Notes.ipynb                     .................[o]\n",
      "info.tex                                 .................[o]\n",
      "hw3                                      .................[x]\n",
      "info.log                                 .................[o]\n",
      "info.aux                                 .................[o]\n",
      "Lecture04Notes.ipynb                     .................[o]\n",
      "db1.sqlite                               .................[o]\n",
      "Lecture01Notes.ipynb                     .................[o]\n",
      "fig                                      .................[x]\n",
      "Lecture05Notes.ipynb                     .................[o]\n",
      "Lecture03Notes.ipynb                     .................[o]\n",
      "info.pdf                                 .................[o]\n",
      "hw1                                      .................[x]\n",
      ".gitignore                               .................[o]\n",
      "HW4solutions.ipynb                       .................[o]\n",
      "quiz1                                    .................[x]\n",
      "Lecture04Notes.pdf                       .................[o]\n",
      "data                                     .................[x]\n",
      ".ipynb_checkpoints                       .................[x]\n",
      "hw2                                      .................[x]\n",
      ".git                                     .................[x]\n",
      "Lecture03Notes.pdf                       .................[o]\n",
      "Lecture02Notes.pdf                       .................[o]\n",
      "pandoc_latex_include                     .................[o]\n",
      "Total: 19 files, 9 non-files\n"
     ]
    }
   ],
   "source": [
    "# [o] if a file, [x] if not\n",
    "\n",
    "cwd = os.path.join(homedir, 'git', 'pyclass-2017')\n",
    "count_f = 0\n",
    "count_d = 0\n",
    "for x in os.listdir(cwd):\n",
    "    if os.path.isfile(x):\n",
    "        print('{:<40} {:.>20}'.format(x, '[o]'))\n",
    "        count_f += 1              # same as count = count + 1\n",
    "    else:\n",
    "        print('{:<40} {:.>20}'.format(x, '[x]'))\n",
    "        count_d += 1\n",
    "print(\"Total: {} files, {} non-files\".format(count_f, count_d))"
   ]
  },
  {
   "cell_type": "markdown",
   "metadata": {},
   "source": [
    "# Traverse (walk) a directory\n",
    "\n",
    "`os.walk()` returns the (dirpath, dirnames, filenames) tuples of all (sub)directories, top-to-bottom by default.\n",
    "\n",
    "- dirpath : the path to the directory\n",
    "- dirnames: a list of subdirectories in dirpath\n",
    "- filenames: a list of non-directory files in dirpath"
   ]
  },
  {
   "cell_type": "code",
   "execution_count": 56,
   "metadata": {
    "scrolled": true
   },
   "outputs": [
    {
     "name": "stdout",
     "output_type": "stream",
     "text": [
      "/tmp ['Atom Crashes', '.Test-unix', '.com.google.Chrome.qJDBOH', 'systemd-private-02e951c285d243739a5edf9895ad4790-colord.service-R6XMLV', '.com.google.Chrome.HvHg5b', '.ICE-unix', '.X11-unix', 'systemd-private-02e951c285d243739a5edf9895ad4790-rtkit-daemon.service-xrHAST', '.dropbox-dist-new-cFJ3FS', 'firefox_schuang', '.vbox-schuang-ipc', '.font-unix', '.XIM-unix', '.com.google.Chrome.ij5dCF', '.com.google.Chrome.B8c0MS', '.com.google.Chrome.bRvyis'] ['.xfsm-ICE-XVANZY', 'config-err-FQhhA6', 'output.mkv', 'id_rsa.pub', '.X0-lock']\n",
      "/tmp/Atom Crashes [] []\n",
      "/tmp/.Test-unix [] []\n",
      "/tmp/.com.google.Chrome.qJDBOH [] ['SingletonSocket', 'SingletonCookie']\n",
      "/tmp/.com.google.Chrome.HvHg5b [] ['crl-set', 'manifest.fingerprint', 'manifest.json']\n",
      "/tmp/.ICE-unix [] ['8329', '2899']\n",
      "/tmp/.X11-unix [] ['X0']\n",
      "/tmp/.dropbox-dist-new-cFJ3FS [] []\n",
      "/tmp/firefox_schuang [] ['.parentlock']\n",
      "/tmp/.vbox-schuang-ipc [] ['ipcd', 'lock']\n",
      "/tmp/.font-unix [] []\n",
      "/tmp/.XIM-unix [] []\n",
      "/tmp/.com.google.Chrome.ij5dCF [] ['crl-set', 'manifest.fingerprint', 'manifest.json']\n",
      "/tmp/.com.google.Chrome.B8c0MS [] ['SingletonSocket', 'SingletonCookie']\n",
      "/tmp/.com.google.Chrome.bRvyis [] ['crl-set', 'manifest.fingerprint', 'manifest.json']\n"
     ]
    }
   ],
   "source": [
    "import os\n",
    "for (dirname, dirs, files) in os.walk('/tmp'):\n",
    "    print(dirname, dirs, files)"
   ]
  },
  {
   "cell_type": "code",
   "execution_count": 57,
   "metadata": {},
   "outputs": [
    {
     "name": "stdout",
     "output_type": "stream",
     "text": [
      "cwd = /home/schuang/git/pyclass-2017\n",
      "fname = Lecture01Notes.pdf\n",
      "full path = /home/schuang/git/pyclass-2017/Lecture01Notes.pdf\n"
     ]
    }
   ],
   "source": [
    "# create full path from dir and filename using os.path.join\n",
    "\n",
    "import os\n",
    "\n",
    "cwd = os.getcwd()\n",
    "fname = os.listdir(cwd)[0]\n",
    "print(\"cwd = {}\\nfname = {}\\nfull path = {}\".format(cwd, fname, os.path.join(cwd, fname)  ))"
   ]
  },
  {
   "cell_type": "markdown",
   "metadata": {},
   "source": [
    "## file size"
   ]
  },
  {
   "cell_type": "code",
   "execution_count": 58,
   "metadata": {},
   "outputs": [
    {
     "data": {
      "text/plain": [
       "58048"
      ]
     },
     "execution_count": 58,
     "metadata": {},
     "output_type": "execute_result"
    }
   ],
   "source": [
    "import os\n",
    "cwd = os.getcwd()\n",
    "f = os.path.join(cwd, 'info.pdf')\n",
    "os.path.getsize(f)   # size in bytes"
   ]
  },
  {
   "cell_type": "code",
   "execution_count": 59,
   "metadata": {},
   "outputs": [
    {
     "name": "stdout",
     "output_type": "stream",
     "text": [
      "/home/schuang/git/pyclass-2017                          19 non-dir files     517247 bytes\n",
      "/home/schuang/git/pyclass-2017/__pycache__               4 non-dir files       1144 bytes\n",
      "/home/schuang/git/pyclass-2017/hw3                       5 non-dir files     154055 bytes\n",
      "/home/schuang/git/pyclass-2017/hw3/.ipynb_checkpoints    1 non-dir files       4077 bytes\n",
      "/home/schuang/git/pyclass-2017/fig                       2 non-dir files     212703 bytes\n",
      "/home/schuang/git/pyclass-2017/hw1                       5 non-dir files      94882 bytes\n",
      "/home/schuang/git/pyclass-2017/quiz1                     3 non-dir files     144995 bytes\n",
      "/home/schuang/git/pyclass-2017/data                      3 non-dir files       9055 bytes\n",
      "/home/schuang/git/pyclass-2017/.ipynb_checkpoints        6 non-dir files     182277 bytes\n",
      "/home/schuang/git/pyclass-2017/hw2                       7 non-dir files     224508 bytes\n"
     ]
    }
   ],
   "source": [
    "# check the non-directory file size of all subdirectories, skipping the .git directory\n",
    "\n",
    "import os\n",
    "from os.path import join, getsize\n",
    "\n",
    "cwd = os.getcwd()\n",
    "for root, dirs, files in os.walk(cwd):\n",
    "    \n",
    "    total_size = 0\n",
    "    for name in files:\n",
    "        fullpath = os.path.join(root, name)\n",
    "        total_size += os.path.getsize(fullpath)\n",
    "\n",
    "    print(\"{:<55}{:>3} non-dir files {:>10} bytes\".format(root, len(files), total_size))\n",
    "\n",
    "    if '.git' in dirs:       # skip the .git directory\n",
    "        dirs.remove('.git')"
   ]
  },
  {
   "cell_type": "markdown",
   "metadata": {},
   "source": [
    "## Changing directory"
   ]
  },
  {
   "cell_type": "code",
   "execution_count": 60,
   "metadata": {},
   "outputs": [
    {
     "name": "stdout",
     "output_type": "stream",
     "text": [
      "current directory = /home/schuang/git/pyclass-2017\n",
      "['Lecture01Notes.pdf', 'pi.py', '__pycache__', 'info.synctex.gz', 'Lecture02Notes.ipynb']\n"
     ]
    }
   ],
   "source": [
    "import os\n",
    "cwd = os.getcwd()\n",
    "print('current directory = {}'.format(cwd))\n",
    "print(os.listdir(cwd)[0:5])"
   ]
  },
  {
   "cell_type": "code",
   "execution_count": 61,
   "metadata": {},
   "outputs": [
    {
     "name": "stdout",
     "output_type": "stream",
     "text": [
      "current directory = /tmp\n",
      "['.xfsm-ICE-XVANZY', 'Atom Crashes', '.Test-unix', '.com.google.Chrome.qJDBOH', 'systemd-private-02e951c285d243739a5edf9895ad4790-colord.service-R6XMLV', '.com.google.Chrome.HvHg5b', 'config-err-FQhhA6', '.ICE-unix', 'output.mkv', '.X11-unix', 'systemd-private-02e951c285d243739a5edf9895ad4790-rtkit-daemon.service-xrHAST', '.dropbox-dist-new-cFJ3FS', 'id_rsa.pub', '.X0-lock', 'firefox_schuang', '.vbox-schuang-ipc', '.font-unix', '.XIM-unix', '.com.google.Chrome.ij5dCF', '.com.google.Chrome.B8c0MS', '.com.google.Chrome.bRvyis']\n"
     ]
    }
   ],
   "source": [
    "# change the current working directory\n",
    "\n",
    "os.chdir('/tmp')\n",
    "cwd = os.getcwd()\n",
    "print('current directory = {}'.format(cwd))\n",
    "print(os.listdir(cwd[0:5]))"
   ]
  },
  {
   "cell_type": "markdown",
   "metadata": {},
   "source": [
    "## Home directory"
   ]
  },
  {
   "cell_type": "code",
   "execution_count": 62,
   "metadata": {},
   "outputs": [
    {
     "data": {
      "text/plain": [
       "'/home/schuang'"
      ]
     },
     "execution_count": 62,
     "metadata": {},
     "output_type": "execute_result"
    }
   ],
   "source": [
    "os.path.expanduser('~')"
   ]
  },
  {
   "cell_type": "code",
   "execution_count": 63,
   "metadata": {},
   "outputs": [
    {
     "data": {
      "text/plain": [
       "'/home/schuang/git/pyclass-2017'"
      ]
     },
     "execution_count": 63,
     "metadata": {},
     "output_type": "execute_result"
    }
   ],
   "source": [
    "# full path\n",
    "\n",
    "os.chdir(os.path.join(os.path.expanduser('~'), 'git/pyclass-2017'))\n",
    "os.getcwd()"
   ]
  },
  {
   "cell_type": "markdown",
   "metadata": {},
   "source": [
    "# Exercise\n",
    "\n",
    "Write a Python program to check the file sizes in your home directory and all its subdirectories. Report the size (in bytes) and the full path/name of the biggest file. To verify, manually check the sizes of your files. Does the answer from your program make sense?\n",
    "\n",
    "The functions you may need are:\n",
    "\n",
    "- `os.path.expanduser('~')`\n",
    "- `os.path.getsize()`\n",
    "- `os.path.isfile()`\n",
    "- `os.walk`\n",
    "- some `if` conditions\n",
    "- `for`-loop\n",
    "\n",
    "This is the output I got on my computer:\n",
    "```text\n",
    "biggest file = /home/schuang/VirtualBox VMs/windows-10/windows-10.vdi\n",
    "size = 17950572544 bytes\n",
    "```"
   ]
  },
  {
   "cell_type": "code",
   "execution_count": null,
   "metadata": {
    "collapsed": true
   },
   "outputs": [],
   "source": []
  }
 ],
 "metadata": {
  "kernelspec": {
   "display_name": "Python 3",
   "language": "python",
   "name": "python3"
  },
  "language_info": {
   "codemirror_mode": {
    "name": "ipython",
    "version": 3
   },
   "file_extension": ".py",
   "mimetype": "text/x-python",
   "name": "python",
   "nbconvert_exporter": "python",
   "pygments_lexer": "ipython3",
   "version": "3.5.3"
  }
 },
 "nbformat": 4,
 "nbformat_minor": 2
}
