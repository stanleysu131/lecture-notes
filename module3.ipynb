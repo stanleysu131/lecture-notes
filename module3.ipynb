{
 "cells": [
  {
   "cell_type": "code",
   "execution_count": 1,
   "metadata": {},
   "outputs": [
    {
     "data": {
      "application/javascript": [
       "IPython.notebook.set_autosave_interval(0)"
      ]
     },
     "metadata": {},
     "output_type": "display_data"
    },
    {
     "name": "stdout",
     "output_type": "stream",
     "text": [
      "Autosave disabled\n"
     ]
    }
   ],
   "source": [
    "%autosave 0"
   ]
  },
  {
   "cell_type": "markdown",
   "metadata": {},
   "source": [
    "# Recap"
   ]
  },
  {
   "cell_type": "markdown",
   "metadata": {},
   "source": [
    "## for loop"
   ]
  },
  {
   "cell_type": "code",
   "execution_count": 2,
   "metadata": {},
   "outputs": [
    {
     "name": "stdout",
     "output_type": "stream",
     "text": [
      "1\n",
      "2\n",
      "3\n",
      "4\n"
     ]
    }
   ],
   "source": [
    "for x in [1,2,3,4]:\n",
    "    print(x)"
   ]
  },
  {
   "cell_type": "code",
   "execution_count": 3,
   "metadata": {},
   "outputs": [
    {
     "name": "stdout",
     "output_type": "stream",
     "text": [
      "('john', 30) john 30\n",
      "('tom', 20) tom 20\n"
     ]
    }
   ],
   "source": [
    "d = {'john': 30, 'tom': 20}\n",
    "for x in d.items():           # note: x is a tuple, i.e. (key,value)\n",
    "    s1 = x[0]\n",
    "    s2 = x[1]\n",
    "    print(x, s1, s2)"
   ]
  },
  {
   "cell_type": "code",
   "execution_count": 4,
   "metadata": {},
   "outputs": [
    {
     "data": {
      "text/plain": [
       "True"
      ]
     },
     "execution_count": 4,
     "metadata": {},
     "output_type": "execute_result"
    }
   ],
   "source": [
    "# Check if an element is in list\n",
    "\n",
    "a = [1,3,5,7]\n",
    "3 in a"
   ]
  },
  {
   "cell_type": "code",
   "execution_count": 5,
   "metadata": {},
   "outputs": [
    {
     "data": {
      "text/plain": [
       "True"
      ]
     },
     "execution_count": 5,
     "metadata": {},
     "output_type": "execute_result"
    }
   ],
   "source": [
    "# Check if a key is in the dictionary\n",
    "\n",
    "d = {'a': 40, 'b': 30, 'c': 50}\n",
    "\n",
    "'a' in d.keys()"
   ]
  },
  {
   "cell_type": "markdown",
   "metadata": {},
   "source": [
    "# A motivating examples: reading files"
   ]
  },
  {
   "cell_type": "code",
   "execution_count": 2,
   "metadata": {
    "collapsed": true
   },
   "outputs": [],
   "source": [
    "# Read in as a list, one line per item - use readlines()\n",
    "\n",
    "fp = open('american-english','r')\n",
    "data_list = fp.readlines()"
   ]
  },
  {
   "cell_type": "code",
   "execution_count": null,
   "metadata": {
    "collapsed": true
   },
   "outputs": [],
   "source": []
  },
  {
   "cell_type": "code",
   "execution_count": 3,
   "metadata": {},
   "outputs": [
    {
     "data": {
      "text/plain": [
       "99171"
      ]
     },
     "execution_count": 3,
     "metadata": {},
     "output_type": "execute_result"
    }
   ],
   "source": [
    "# number of lines:\n",
    "len(data_list)"
   ]
  },
  {
   "cell_type": "code",
   "execution_count": 5,
   "metadata": {},
   "outputs": [
    {
     "data": {
      "text/plain": [
       "['A\\n',\n",
       " \"A's\\n\",\n",
       " \"AA's\\n\",\n",
       " \"AB's\\n\",\n",
       " \"ABM's\\n\",\n",
       " \"AC's\\n\",\n",
       " \"ACTH's\\n\",\n",
       " \"AI's\\n\",\n",
       " \"AIDS's\\n\",\n",
       " \"AM's\\n\"]"
      ]
     },
     "execution_count": 5,
     "metadata": {},
     "output_type": "execute_result"
    }
   ],
   "source": [
    "# What the first 10 items look like:\n",
    "\n",
    "data_list[0:10]"
   ]
  },
  {
   "cell_type": "code",
   "execution_count": 6,
   "metadata": {},
   "outputs": [
    {
     "data": {
      "text/plain": [
       "['A',\n",
       " \"A's\",\n",
       " \"AA's\",\n",
       " \"AB's\",\n",
       " \"ABM's\",\n",
       " \"AC's\",\n",
       " \"ACTH's\",\n",
       " \"AI's\",\n",
       " \"AIDS's\",\n",
       " \"AM's\"]"
      ]
     },
     "execution_count": 6,
     "metadata": {},
     "output_type": "execute_result"
    }
   ],
   "source": [
    "# to create a list containing \"clean\" texts\n",
    "\n",
    "data_list_clean = []\n",
    "for x in data_list:\n",
    "    data_list_clean.append(x.strip())\n",
    "\n",
    "# check the first few items\n",
    "data_list_clean[0:10]"
   ]
  },
  {
   "cell_type": "code",
   "execution_count": 13,
   "metadata": {},
   "outputs": [
    {
     "data": {
      "text/plain": [
       "['a',\n",
       " \"a's\",\n",
       " \"aa's\",\n",
       " \"ab's\",\n",
       " \"abm's\",\n",
       " \"ac's\",\n",
       " \"acth's\",\n",
       " \"ai's\",\n",
       " \"aids's\",\n",
       " \"am's\"]"
      ]
     },
     "execution_count": 13,
     "metadata": {},
     "output_type": "execute_result"
    }
   ],
   "source": [
    "# to lower cases to simplify checking\n",
    "\n",
    "data_list_clean = []\n",
    "for x in data_list:\n",
    "    data_list_clean.append(x.strip().lower())\n",
    "\n",
    "# check the first few items\n",
    "data_list_clean[0:10]"
   ]
  },
  {
   "cell_type": "code",
   "execution_count": 16,
   "metadata": {},
   "outputs": [
    {
     "data": {
      "text/plain": [
       "['a',\n",
       " \"a's\",\n",
       " \"aa's\",\n",
       " \"ab's\",\n",
       " \"abm's\",\n",
       " \"ac's\",\n",
       " \"acth's\",\n",
       " \"ai's\",\n",
       " \"aids's\",\n",
       " \"am's\"]"
      ]
     },
     "execution_count": 16,
     "metadata": {},
     "output_type": "execute_result"
    }
   ],
   "source": [
    "# check strings that ends with 's\n",
    "\n",
    "data_list_clean = []\n",
    "for x in data_list:\n",
    "    data_list_clean.append(x.strip().lower())\n",
    "\n",
    "# check the first few items\n",
    "data_list_clean[0:10]"
   ]
  },
  {
   "cell_type": "code",
   "execution_count": 15,
   "metadata": {},
   "outputs": [
    {
     "data": {
      "text/plain": [
       "['a',\n",
       " \"a's\",\n",
       " \"aa's\",\n",
       " \"ab's\",\n",
       " \"abm's\",\n",
       " \"ac's\",\n",
       " \"acth's\",\n",
       " \"ai's\",\n",
       " \"aids's\",\n",
       " \"am's\"]"
      ]
     },
     "execution_count": 15,
     "metadata": {},
     "output_type": "execute_result"
    }
   ],
   "source": [
    "# use list comprehension\n",
    "\n",
    "data_list_clean = [ x.strip().lower() for x in data_list ]\n",
    "data_list_clean[0:10]"
   ]
  },
  {
   "cell_type": "code",
   "execution_count": 17,
   "metadata": {},
   "outputs": [
    {
     "data": {
      "text/plain": [
       "['a',\n",
       " 'aol',\n",
       " 'aachen',\n",
       " 'aaliyah',\n",
       " 'aaron',\n",
       " 'abbas',\n",
       " 'abbasid',\n",
       " 'abbott',\n",
       " 'abby',\n",
       " 'abdul']"
      ]
     },
     "execution_count": 17,
     "metadata": {},
     "output_type": "execute_result"
    }
   ],
   "source": [
    "# suppose we want to ignore all words containing '\n",
    "\n",
    "data_list_clean = []\n",
    "for x in data_list:\n",
    "    if \"'\" not in x:\n",
    "        data_list_clean.append(x.strip().lower())\n",
    "        \n",
    "data_list_clean[0:10]"
   ]
  },
  {
   "cell_type": "code",
   "execution_count": 18,
   "metadata": {},
   "outputs": [
    {
     "data": {
      "text/plain": [
       "17"
      ]
     },
     "execution_count": 18,
     "metadata": {},
     "output_type": "execute_result"
    }
   ],
   "source": [
    "palindrom = []\n",
    "\n",
    "for x in data_list_clean:\n",
    "    if len(x) == 5 and x[0] == x[-1] and x[1] == x[-2]:\n",
    "        palindrom.append(x)\n",
    "        \n",
    "len(palindrom)"
   ]
  },
  {
   "cell_type": "code",
   "execution_count": null,
   "metadata": {
    "collapsed": true
   },
   "outputs": [],
   "source": [
    "palindrom"
   ]
  },
  {
   "cell_type": "markdown",
   "metadata": {},
   "source": [
    "# Read an article as a single string\n",
    "\n",
    "Use `read()`  (not `readlines()`)"
   ]
  },
  {
   "cell_type": "code",
   "execution_count": 45,
   "metadata": {},
   "outputs": [
    {
     "data": {
      "text/plain": [
       "'When Mr. Bilbo Baggins of Bag End announced that he would shortly be celebrating his eleventy-first birthday with a party of special magnificence, there was much talk and excitement in Hobbiton.\\n\\nBilbo was very rich and very peculiar, and had been the wonder of the Shire for sixty years, ever since his remarkable disappearance and unexpected return. The riches he had brought back from his travels had now become a local legend, and it was popularly believed, whatever the old folk might say, that the Hill at Bag End was full of tunnels stuffed with treasure. And if that was not enough for fame, there was also his prolonged vigour to marvel at. Time wore on, but it seemed to have little effect on Mr. Baggins. At ninety he was much the same as at fifty. At ninety-nine they began to call him well-preserved ; but unchanged would have been nearer the mark. There were some that shook their heads and thought this was too much of a good thing; it seemed unfair that anyone should possess (apparently) perpetual youth as well as (reputedly) inexhaustible wealth.\\n\\n‘It will have to be paid for,’ they said. ‘It isn’t natural, and trouble will come of it!’\\n\\n\\nBut so far trouble had not come; and as Mr. Baggins was generous with his money, most people were willing to forgive him his oddities and his good fortune. He remained on visiting terms with his relatives (except, of course, the Sackville-Bagginses), and he had many devoted admirers among the hobbits of poor and unimportant families. But he had no close friends, until some of his younger cousins began to grow up.\\n\\nThe eldest of these, and Bilbo’s favourite, was young Frodo Baggins. When Bilbo was ninety-nine he adopted Frodo as his heir, and brought him to live at Bag End; and the hopes of the Sackville-Bagginses were finally dashed. Bilbo and Frodo happened to have the same birthday, September 22nd. ‘You had better come and live here, Frodo my lad,’ said Bilbo one day; ‘and then we can celebrate our birthday-parties comfortably together.’ At that time Frodo was still in his tweens, as the hobbits called the irresponsible twenties between childhood and coming of age at thirty-three.'"
      ]
     },
     "execution_count": 45,
     "metadata": {},
     "output_type": "execute_result"
    }
   ],
   "source": [
    "# texts taken from http://www.nytimes.com/2001/11/19/books/chapters/the-lord-of-the-rings-the-fellowship-of-the-ring.html\n",
    "\n",
    "fp.close()\n",
    "fp = open('article.txt', 'r')\n",
    "c = fp.read()\n",
    "c = c.strip()\n",
    "c"
   ]
  },
  {
   "cell_type": "code",
   "execution_count": 29,
   "metadata": {},
   "outputs": [
    {
     "data": {
      "text/plain": [
       "372"
      ]
     },
     "execution_count": 29,
     "metadata": {},
     "output_type": "execute_result"
    }
   ],
   "source": [
    "# break a string into words, stored as a list\n",
    "\n",
    "w = c.split()\n",
    "len(w)"
   ]
  },
  {
   "cell_type": "code",
   "execution_count": 30,
   "metadata": {},
   "outputs": [
    {
     "data": {
      "text/plain": [
       "['When',\n",
       " 'Mr.',\n",
       " 'Bilbo',\n",
       " 'Baggins',\n",
       " 'of',\n",
       " 'Bag',\n",
       " 'End',\n",
       " 'announced',\n",
       " 'that',\n",
       " 'he']"
      ]
     },
     "execution_count": 30,
     "metadata": {},
     "output_type": "execute_result"
    }
   ],
   "source": [
    "w[0:10]"
   ]
  },
  {
   "cell_type": "markdown",
   "metadata": {},
   "source": [
    "## word counting"
   ]
  },
  {
   "cell_type": "code",
   "execution_count": 40,
   "metadata": {},
   "outputs": [
    {
     "data": {
      "text/plain": [
       "dict"
      ]
     },
     "execution_count": 40,
     "metadata": {},
     "output_type": "execute_result"
    }
   ],
   "source": [
    "# create a empty dictionary\n",
    "\n",
    "collection = {}\n",
    "type(collection)"
   ]
  },
  {
   "cell_type": "code",
   "execution_count": 43,
   "metadata": {},
   "outputs": [
    {
     "data": {
      "text/plain": [
       "23"
      ]
     },
     "execution_count": 43,
     "metadata": {},
     "output_type": "execute_result"
    }
   ],
   "source": [
    "for t in w:\n",
    "    if t in collection:\n",
    "        collection[t] = collection[t] + 1\n",
    "    else:\n",
    "        collection[t] = 1\n",
    "\n",
    "# look for any words that appear more than N times\n",
    "\n",
    "freq_words = []\n",
    "\n",
    "for x in collection.keys():\n",
    "    if collection[x] >= 5:\n",
    "        freq_words.append(x)\n",
    "        \n",
    "len(freq_words)"
   ]
  },
  {
   "cell_type": "code",
   "execution_count": 42,
   "metadata": {},
   "outputs": [
    {
     "name": "stdout",
     "output_type": "stream",
     "text": [
      "to 8\n",
      "his 11\n",
      "had 7\n",
      "he 6\n",
      "Bilbo 5\n",
      "that 6\n",
      "of 12\n",
      "and 17\n",
      "was 12\n",
      "as 6\n",
      "Frodo 5\n",
      "the 13\n"
     ]
    }
   ],
   "source": [
    "for x in freq_words:\n",
    "    print(x, collection[x])"
   ]
  },
  {
   "cell_type": "markdown",
   "metadata": {},
   "source": [
    "Note that the code is not perfect yet, as some words contain '.', etc. More improvement is needed."
   ]
  },
  {
   "cell_type": "markdown",
   "metadata": {},
   "source": [
    "# Standard input\n",
    "\n",
    "`input`: read input from standard input (e.g. from keyboard or screen) as a ***string***.\n",
    "\n",
    "Numbers are also read as strings."
   ]
  },
  {
   "cell_type": "code",
   "execution_count": 6,
   "metadata": {
    "collapsed": true
   },
   "outputs": [],
   "source": [
    "x = '35C'\n",
    "#x = input('Enter temperature (e.g. 35C or 70F)\\n')"
   ]
  },
  {
   "cell_type": "code",
   "execution_count": 7,
   "metadata": {},
   "outputs": [
    {
     "data": {
      "text/plain": [
       "'35C'"
      ]
     },
     "execution_count": 7,
     "metadata": {},
     "output_type": "execute_result"
    }
   ],
   "source": [
    "x"
   ]
  },
  {
   "cell_type": "code",
   "execution_count": 8,
   "metadata": {},
   "outputs": [
    {
     "data": {
      "text/plain": [
       "str"
      ]
     },
     "execution_count": 8,
     "metadata": {},
     "output_type": "execute_result"
    }
   ],
   "source": [
    "type(x)"
   ]
  },
  {
   "cell_type": "markdown",
   "metadata": {},
   "source": [
    "## Example: temperature conversion\n",
    "\n",
    "Write a program to convert temperature (degrees) betwen Celsius and Farenheit.\n",
    "\n",
    "Conversion formula:\n",
    "\n",
    "```\n",
    "F = (9/5)*C + 32\n",
    "\n",
    "C = (F - 32) * 5/9\n",
    "```"
   ]
  },
  {
   "cell_type": "code",
   "execution_count": 9,
   "metadata": {},
   "outputs": [
    {
     "name": "stdout",
     "output_type": "stream",
     "text": [
      "Farenheit degree =  86.0\n"
     ]
    }
   ],
   "source": [
    "# from Celsius to Farenheit\n",
    "\n",
    "xin = '30'\n",
    "#xin = input(\"Enter temperature in Celsius:\\n\")    # note: x is a string\n",
    "c = eval(xin)                                      # evaluating the number 'string' results in a number\n",
    "f = 9 * c / 5 + 32\n",
    "print(\"Farenheit degree = \", f)"
   ]
  },
  {
   "cell_type": "code",
   "execution_count": 10,
   "metadata": {},
   "outputs": [
    {
     "name": "stdout",
     "output_type": "stream",
     "text": [
      "Celsius degree =  26.666666666666668\n"
     ]
    }
   ],
   "source": [
    "# from Farenheit to Celsius\n",
    "\n",
    "xin = '80'\n",
    "#xin = input(\"Enter temperature in Farenheit: \\n\")\n",
    "f = eval(xin)\n",
    "c = 5 * (f - 32) / 9\n",
    "print(\"Celsius degree = \", c)"
   ]
  },
  {
   "cell_type": "markdown",
   "metadata": {},
   "source": [
    "## How about combining the two cases in one code?\n",
    "\n",
    "- If entering \"30C\", converts to Farenheit.\n",
    "- If entering \"80F\", convert to Celsius.\n",
    "\n",
    "We need to use the if-else condition syntax."
   ]
  },
  {
   "cell_type": "markdown",
   "metadata": {},
   "source": [
    "# if-else condition\n",
    "\n",
    "1. single `if`\n",
    "    \n",
    "    ```python\n",
    "    if (A):\n",
    "        ....\n",
    "    ```\n",
    "\n",
    "2. `if`-`else`\n",
    "  \n",
    "    ```python\n",
    "    if (A):\n",
    "        ....\n",
    "    else:           # everything else (not A)\n",
    "        ....\n",
    "\n",
    "    ```\n",
    "\n",
    "3. `if`-`elif`-...-`else`\n",
    "\n",
    "    ```python\n",
    "    if (A):\n",
    "        ....\n",
    "    elif (B):\n",
    "        ....\n",
    "    elif (C):\n",
    "        ....\n",
    "    else:           # everything else (not A, not B, not C)\n",
    "        ....\n",
    "    ```\n",
    "\n",
    "\n",
    "Don't forget the \"`:`\"."
   ]
  },
  {
   "cell_type": "code",
   "execution_count": 11,
   "metadata": {},
   "outputs": [
    {
     "name": "stdout",
     "output_type": "stream",
     "text": [
      "Celsius =  26.666666666666668\n"
     ]
    }
   ],
   "source": [
    "# First version\n",
    "\n",
    "xin = '80F'\n",
    "#xin = input('Enter temperature (e.g. 30C or 80F):\\n')\n",
    "if xin[-1] == 'C':  # convert to \n",
    "    c = eval(xin[:-1])\n",
    "    f = 9*c/5 + 32\n",
    "    print(\"Fareheit = \", f)\n",
    "    \n",
    "if xin[-1] == 'F':\n",
    "    f = eval(xin[:-1])\n",
    "    c = 5*(f-32)/9\n",
    "    print(\"Celsius = \", c)\n",
    "    \n"
   ]
  },
  {
   "cell_type": "markdown",
   "metadata": {},
   "source": [
    "The code above works, but what if the input is neither \"C\" or \"F\"?"
   ]
  },
  {
   "cell_type": "code",
   "execution_count": 12,
   "metadata": {},
   "outputs": [
    {
     "name": "stdout",
     "output_type": "stream",
     "text": [
      "Fareheit =  176.0\n"
     ]
    }
   ],
   "source": [
    "# improvement\n",
    "\n",
    "#xin = '80'\n",
    "xin = '80C'\n",
    "#xin = input('Enter temperature (e.g. 30C or 80F):\\n')\n",
    "\n",
    "if xin[-1] == 'C':  # convert to \n",
    "    c = eval(xin[:-1])\n",
    "    f = 9*c/5 + 32\n",
    "    print(\"Fareheit = \", f)\n",
    "elif xin[-1] == 'F':\n",
    "    f = eval(xin[:-1])\n",
    "    c = 5*(f-32)/9\n",
    "    print(\"Celsius = \", c)\n",
    "else:\n",
    "    print(\"Unknown input...\")"
   ]
  },
  {
   "cell_type": "markdown",
   "metadata": {},
   "source": [
    "To handle both the upper and lower case of 'C', we could convert it to upper case before checking, e.g.\n",
    "\n",
    "```python\n",
    "if xin[-1].upper() == 'C':\n",
    "```\n",
    "\n",
    "Similarily for checking `f` and `F`."
   ]
  },
  {
   "cell_type": "markdown",
   "metadata": {},
   "source": [
    "# While\n",
    "\n",
    "Another way to do iterations. \n",
    "\n",
    "Let's look at an example:"
   ]
  },
  {
   "cell_type": "code",
   "execution_count": 13,
   "metadata": {},
   "outputs": [
    {
     "name": "stdout",
     "output_type": "stream",
     "text": [
      "a =  1\n",
      "a =  2\n",
      "a =  3\n",
      "a =  4\n"
     ]
    }
   ],
   "source": [
    "a = 1\n",
    "while a < 5:\n",
    "    print(\"a = \", a)\n",
    "    a = a + 1"
   ]
  },
  {
   "cell_type": "markdown",
   "metadata": {},
   "source": [
    "The \"statements\" in the while block will be repeated again and again, until the \"condition\" becomes False.\n",
    "\n",
    "```\n",
    "while (condition):\n",
    "    statements\n",
    "    ...\n",
    "```"
   ]
  },
  {
   "cell_type": "code",
   "execution_count": 14,
   "metadata": {},
   "outputs": [
    {
     "name": "stdout",
     "output_type": "stream",
     "text": [
      "a = 1  b = 10\n",
      "a = 2  b = 11\n",
      "a = 3  b = 5\n",
      "a = 4  b = 9\n",
      "a = 5  b = 5\n",
      "a = 6  b = 14\n",
      "a = 7  b = 2\n",
      "stopping...\n",
      "b = 2\n"
     ]
    }
   ],
   "source": [
    "# random numbers are different every time\n",
    "\n",
    "import random   # random number generation\n",
    "\n",
    "a = 1\n",
    "while a < 10:\n",
    "    b = random.randint(1,20)\n",
    "    print(\"a = {}  b = {}\".format(a,b))\n",
    "    #print(\"a =\", a, \"b = \", b)\n",
    "    if b > 4:\n",
    "        a = a + 1\n",
    "        continue\n",
    "    else:\n",
    "        print(\"stopping...\")\n",
    "        break\n",
    "    \n",
    "print('b = {}'.format(b))"
   ]
  },
  {
   "cell_type": "markdown",
   "metadata": {},
   "source": [
    "- `continue`: go on to the next iteration\n",
    "- `break`: exit the current iteration"
   ]
  },
  {
   "cell_type": "markdown",
   "metadata": {},
   "source": [
    "# User function\n",
    "\n",
    "Always write (or think) in terms of functions (or modules) when you solve a problem.\n",
    "\n",
    "- divide and conquer\n",
    "- modular\n",
    "- code reuse (if possible)\n",
    "\n",
    "```\n",
    "def func_name(arg1, arg2, ...):\n",
    "    ....\n",
    "    ....\n",
    "    return r1, r2, ...\n",
    "```"
   ]
  },
  {
   "cell_type": "code",
   "execution_count": 15,
   "metadata": {
    "collapsed": true
   },
   "outputs": [],
   "source": [
    "# a function that does nothing\n",
    "\n",
    "def myfunc():\n",
    "    pass\n",
    "\n",
    "# pass does nothing, but can be a good place holder as you build up your code"
   ]
  },
  {
   "cell_type": "code",
   "execution_count": 16,
   "metadata": {
    "collapsed": true
   },
   "outputs": [],
   "source": [
    "def myadd(x,y):\n",
    "    return x+y"
   ]
  },
  {
   "cell_type": "code",
   "execution_count": 17,
   "metadata": {},
   "outputs": [
    {
     "data": {
      "text/plain": [
       "8"
      ]
     },
     "execution_count": 17,
     "metadata": {},
     "output_type": "execute_result"
    }
   ],
   "source": [
    "a = myadd(3, 5)\n",
    "a"
   ]
  },
  {
   "cell_type": "code",
   "execution_count": 18,
   "metadata": {
    "collapsed": true
   },
   "outputs": [],
   "source": [
    "def mysum(inlist):\n",
    "    s = 0\n",
    "    for x in inlist:\n",
    "        s = s + x\n",
    "    return s"
   ]
  },
  {
   "cell_type": "code",
   "execution_count": 19,
   "metadata": {},
   "outputs": [
    {
     "data": {
      "text/plain": [
       "55"
      ]
     },
     "execution_count": 19,
     "metadata": {},
     "output_type": "execute_result"
    }
   ],
   "source": [
    "x = [1, 2, 3, 4, 5, 6, 7, 8, 9, 10]\n",
    "total = mysum(x)\n",
    "total"
   ]
  },
  {
   "cell_type": "code",
   "execution_count": 20,
   "metadata": {
    "collapsed": true
   },
   "outputs": [],
   "source": [
    "# return multiple objects\n",
    "\n",
    "def mycalc(x,y):\n",
    "    return x+y, x*y"
   ]
  },
  {
   "cell_type": "code",
   "execution_count": 21,
   "metadata": {},
   "outputs": [
    {
     "data": {
      "text/plain": [
       "(8, 15)"
      ]
     },
     "execution_count": 21,
     "metadata": {},
     "output_type": "execute_result"
    }
   ],
   "source": [
    "a,b = mycalc(3, 5)\n",
    "a,b"
   ]
  },
  {
   "cell_type": "markdown",
   "metadata": {},
   "source": [
    "Variables in a function are local. (more on this later)"
   ]
  },
  {
   "cell_type": "code",
   "execution_count": 22,
   "metadata": {},
   "outputs": [
    {
     "name": "stdout",
     "output_type": "stream",
     "text": [
      "Celsius =  26.666666666666668\n"
     ]
    }
   ],
   "source": [
    "def c_to_f(c):\n",
    "    return 9*c/5 + 32\n",
    "\n",
    "def f_to_c(f):\n",
    "    return 5*(f-32)/9\n",
    "\n",
    "xin = '80F'\n",
    "#xin = input('Enter temperature (e.g. 30C or 80F)\\n')\n",
    "\n",
    "if xin[-1].upper() == 'C':\n",
    "    print(\"Farenheit = \", c_to_f(eval(xin[:-1])))\n",
    "elif xin[-1] == 'F':\n",
    "    print(\"Celsius = \", f_to_c(eval(xin[:-1])))\n",
    "else:\n",
    "    print(\"Unknown input...\")"
   ]
  },
  {
   "cell_type": "code",
   "execution_count": 23,
   "metadata": {},
   "outputs": [
    {
     "name": "stdout",
     "output_type": "stream",
     "text": [
      "Celsius =  26.666666666666668\n"
     ]
    }
   ],
   "source": [
    "# What if user enters \"f\" instead of \"F\"?\n",
    "\n",
    "#xin = '80F'\n",
    "xin = '80f'\n",
    "if xin[-1].upper() == 'F':                       # handle both upper and lower cases\n",
    "    print(\"Celsius = \", f_to_c(eval(xin[:-1])))"
   ]
  },
  {
   "cell_type": "markdown",
   "metadata": {},
   "source": [
    "## Calling a function\n",
    "\n",
    "Defining a function does not execute. It is executed when the caller (either the \"main\" program, or another function) call it."
   ]
  },
  {
   "cell_type": "code",
   "execution_count": 24,
   "metadata": {},
   "outputs": [
    {
     "name": "stdout",
     "output_type": "stream",
     "text": [
      "7\n",
      "8\n"
     ]
    }
   ],
   "source": [
    "def myfunc(a,b):     # function defined\n",
    "    return a + b\n",
    "\n",
    "a = 3\n",
    "b = 4\n",
    "x = myfunc(a,b)      # function executed\n",
    "print(x)\n",
    "c = 5\n",
    "y = myfunc(a,c)      # function executed again\n",
    "print(y)"
   ]
  },
  {
   "cell_type": "markdown",
   "metadata": {},
   "source": [
    "# Global vs. Local variables\n",
    "\n",
    "- global varialbe is visiable in the module\n",
    "- local varialbes are visible within the function\n",
    "\n",
    "It is not possible to access the local variables inside the function. This creates an isolation to \"protect\" the variables inside a function. Functions only communicate with the outside world via the arguments and the return object(s)."
   ]
  },
  {
   "cell_type": "code",
   "execution_count": 25,
   "metadata": {},
   "outputs": [
    {
     "name": "stdout",
     "output_type": "stream",
     "text": [
      "p = 650\n"
     ]
    }
   ],
   "source": [
    "a = 3               # global\n",
    "b = 4               # global\n",
    "\n",
    "def myfunc(x,y):    # function name is global\n",
    "    r = x + y       # r is local (inside the function)\n",
    "    s = 10*r        # s is local\n",
    "    return s\n",
    "\n",
    "p = myfunc(23, 42)  # p is global\n",
    "print('p = {}'.format(p))"
   ]
  },
  {
   "cell_type": "markdown",
   "metadata": {},
   "source": [
    "# Format"
   ]
  },
  {
   "cell_type": "code",
   "execution_count": 26,
   "metadata": {},
   "outputs": [
    {
     "data": {
      "text/plain": [
       "'hello world'"
      ]
     },
     "execution_count": 26,
     "metadata": {},
     "output_type": "execute_result"
    }
   ],
   "source": [
    "s = '{} {}'.format('hello', 'world')\n",
    "s"
   ]
  },
  {
   "cell_type": "markdown",
   "metadata": {},
   "source": [
    "## String"
   ]
  },
  {
   "cell_type": "code",
   "execution_count": 27,
   "metadata": {},
   "outputs": [
    {
     "data": {
      "text/plain": [
       "'hello     '"
      ]
     },
     "execution_count": 27,
     "metadata": {},
     "output_type": "execute_result"
    }
   ],
   "source": [
    "# By default strings are left-aligned when the width is greater than the string.\n",
    "\n",
    "'{:10}'.format('hello')"
   ]
  },
  {
   "cell_type": "code",
   "execution_count": 28,
   "metadata": {},
   "outputs": [
    {
     "data": {
      "text/plain": [
       "'hello     '"
      ]
     },
     "execution_count": 28,
     "metadata": {},
     "output_type": "execute_result"
    }
   ],
   "source": [
    "# same as\n",
    "'{:<10}'.format('hello')"
   ]
  },
  {
   "cell_type": "code",
   "execution_count": 29,
   "metadata": {},
   "outputs": [
    {
     "data": {
      "text/plain": [
       "'     hello'"
      ]
     },
     "execution_count": 29,
     "metadata": {},
     "output_type": "execute_result"
    }
   ],
   "source": [
    "# right-aligned strings\n",
    "\n",
    "'{:>10}'.format('hello')"
   ]
  },
  {
   "cell_type": "code",
   "execution_count": 30,
   "metadata": {},
   "outputs": [
    {
     "name": "stdout",
     "output_type": "stream",
     "text": [
      "Today is a sunny day\n"
     ]
    }
   ],
   "source": [
    "print('Today is a {} day'.format('sunny'))"
   ]
  },
  {
   "cell_type": "code",
   "execution_count": 31,
   "metadata": {},
   "outputs": [
    {
     "name": "stdout",
     "output_type": "stream",
     "text": [
      "Name                     Class\n",
      "John               2017 Spring\n",
      "Kathorine            2018 Fall\n"
     ]
    }
   ],
   "source": [
    "print('{:<10}{:>20}'.format('Name', 'Class'))\n",
    "print('{:<10}{:>20}'.format('John', '2017 Spring'))\n",
    "print('{:<10}{:>20}'.format('Kathorine', '2018 Fall'))"
   ]
  },
  {
   "cell_type": "markdown",
   "metadata": {},
   "source": [
    "## Interger formatting"
   ]
  },
  {
   "cell_type": "code",
   "execution_count": 32,
   "metadata": {},
   "outputs": [
    {
     "data": {
      "text/plain": [
       "'   12   254'"
      ]
     },
     "execution_count": 32,
     "metadata": {},
     "output_type": "execute_result"
    }
   ],
   "source": [
    "# by default numbers are right-aligned\n",
    "\n",
    "s = '{:5d} {:5d}'.format(12,254)\n",
    "s"
   ]
  },
  {
   "cell_type": "code",
   "execution_count": 33,
   "metadata": {},
   "outputs": [
    {
     "name": "stdout",
     "output_type": "stream",
     "text": [
      "  1     1       1\n",
      "  3     9      27\n",
      "  5    25     125\n",
      "  7    49     343\n",
      "  9    81     729\n",
      " 11   121    1331\n"
     ]
    }
   ],
   "source": [
    "a = [1,3,5,7,9, 11]\n",
    "for i in a:\n",
    "    #print('{:d} {:d} {:d}'.format(i,i**2,i**3))   \n",
    "    print('{:3d} {:5d} {:7d}'.format(i,i**2,i**3))"
   ]
  },
  {
   "cell_type": "code",
   "execution_count": 34,
   "metadata": {},
   "outputs": [
    {
     "name": "stdout",
     "output_type": "stream",
     "text": [
      "         1\n",
      "        10\n",
      "       100\n",
      "      1000\n"
     ]
    }
   ],
   "source": [
    "for i in [1, 10, 10**2, 10**3]:\n",
    "    print('{:>10d}'.format(i))"
   ]
  },
  {
   "cell_type": "code",
   "execution_count": 35,
   "metadata": {},
   "outputs": [
    {
     "name": "stdout",
     "output_type": "stream",
     "text": [
      "1         \n",
      "10        \n",
      "100       \n",
      "1000      \n"
     ]
    }
   ],
   "source": [
    "for i in [1, 10, 10**2, 10**3]:\n",
    "    print('{:<10d}'.format(i))"
   ]
  },
  {
   "cell_type": "code",
   "execution_count": 36,
   "metadata": {},
   "outputs": [
    {
     "name": "stdout",
     "output_type": "stream",
     "text": [
      "0000000003\n",
      "0000000027\n",
      "0000000243\n",
      "0000002187\n"
     ]
    }
   ],
   "source": [
    "# padding\n",
    "for i in [3, 3**3, 3**5, 3**7]:\n",
    "    print('{:010d}'.format(i))"
   ]
  },
  {
   "cell_type": "markdown",
   "metadata": {},
   "source": [
    "## Floating point number formatting"
   ]
  },
  {
   "cell_type": "code",
   "execution_count": 37,
   "metadata": {},
   "outputs": [
    {
     "data": {
      "text/plain": [
       "1.6666666666666667"
      ]
     },
     "execution_count": 37,
     "metadata": {},
     "output_type": "execute_result"
    }
   ],
   "source": [
    "5/3"
   ]
  },
  {
   "cell_type": "code",
   "execution_count": 38,
   "metadata": {},
   "outputs": [
    {
     "data": {
      "text/plain": [
       "'1.6667'"
      ]
     },
     "execution_count": 38,
     "metadata": {},
     "output_type": "execute_result"
    }
   ],
   "source": [
    "s = '{:.4f}'.format(5/3)  # number of digits after decimal points\n",
    "s"
   ]
  },
  {
   "cell_type": "code",
   "execution_count": 39,
   "metadata": {},
   "outputs": [
    {
     "data": {
      "text/plain": [
       "'1.6667'"
      ]
     },
     "execution_count": 39,
     "metadata": {},
     "output_type": "execute_result"
    }
   ],
   "source": [
    "s = '{:6.4f}'.format(5/3)  # total width + number of digits after decimal pts\n",
    "s"
   ]
  },
  {
   "cell_type": "code",
   "execution_count": 40,
   "metadata": {},
   "outputs": [
    {
     "data": {
      "text/plain": [
       "' 1.667e+01'"
      ]
     },
     "execution_count": 40,
     "metadata": {},
     "output_type": "execute_result"
    }
   ],
   "source": [
    "s = '{:10.3e}'.format(50/3)\n",
    "s"
   ]
  },
  {
   "cell_type": "markdown",
   "metadata": {
    "collapsed": true
   },
   "source": [
    "# File I/O\n",
    "\n",
    "We have seen how to open and write to a file. Let's take a closer look at file-related operations.\n",
    "\n",
    "- text file\n",
    "\n",
    "    ```python\n",
    "    fp = open(file_path, 'r')  # read-only\n",
    "    fp = open(file_path, 'w')  # write-only (overwrite if exists)\n",
    "    ```\n",
    "\n",
    "- binary file\n",
    "\n",
    "    (discussed later)\n",
    "\n",
    "\n"
   ]
  },
  {
   "cell_type": "markdown",
   "metadata": {},
   "source": [
    "## File path\n",
    "\n",
    "- On Mac or Linux\n",
    "    ```python\n",
    "    # current directory\n",
    "    fp = open('mydata.txt', 'r')\n",
    "    \n",
    "    # absolute path\n",
    "    fp = open('/Users/user/Desktop/myfile.txt', 'r')\n",
    "    ```\n",
    "    \n",
    "    - Linux file system is case sensitive (Many many many servers are running Linux)\n",
    "    - Mac file system is case-insensitive (\"case preserving\")\n",
    "\n",
    "\n",
    "- On Windows\n",
    "\n",
    "    ```python\n",
    "    # current directory\n",
    "    fp = open('mydata.txt', 'r')\n",
    "    \n",
    "    # absolute path -- note the double backslash \\\\\n",
    "    fp = open('c:\\\\Users\\\\user\\\\Desktop\\\\myfile.txt', 'r')\n",
    "    ```\n",
    "    \n",
    "    - Windows file system is case-insensitive"
   ]
  },
  {
   "cell_type": "markdown",
   "metadata": {},
   "source": [
    "## File object"
   ]
  },
  {
   "cell_type": "code",
   "execution_count": 41,
   "metadata": {},
   "outputs": [
    {
     "name": "stdout",
     "output_type": "stream",
     "text": [
      "a,20\r\n",
      "b,30\r\n"
     ]
    }
   ],
   "source": [
    "# create a file to work with\n",
    "! echo 'a,20' >  myfile.txt\n",
    "#! echo ''     >> myfile.txt\n",
    "! echo 'b,30' >> myfile.txt\n",
    "! cat myfile.txt             # show the file contents"
   ]
  },
  {
   "cell_type": "code",
   "execution_count": 42,
   "metadata": {},
   "outputs": [
    {
     "data": {
      "text/plain": [
       "['a,20\\n', 'b,30\\n']"
      ]
     },
     "execution_count": 42,
     "metadata": {},
     "output_type": "execute_result"
    }
   ],
   "source": [
    "fp = open('myfile.txt', 'r')\n",
    "x = fp.readlines()   # read in the entire file; each line is an item in the list\n",
    "x"
   ]
  },
  {
   "cell_type": "code",
   "execution_count": 43,
   "metadata": {
    "collapsed": true
   },
   "outputs": [],
   "source": [
    "fp.close()\n",
    "! rm -f myfile.txt      # clean up"
   ]
  },
  {
   "cell_type": "markdown",
   "metadata": {},
   "source": [
    "## Common read operations\n",
    "\n",
    "- `read(n)`: read n characters\n",
    "- `read()`: read all lines into a string\n",
    "- `readline()`: read one line\n",
    "- `readlines()`: read all lines; each line is an item in a list\n",
    "- `write()`: write a string to file -- use string's format() method to control the format"
   ]
  },
  {
   "cell_type": "code",
   "execution_count": 44,
   "metadata": {},
   "outputs": [
    {
     "name": "stdout",
     "output_type": "stream",
     "text": [
      "This is the first line.\r\n",
      "Second line is here.\r\n"
     ]
    }
   ],
   "source": [
    "# create a file to work with\n",
    "\n",
    "! echo 'This is the first line.' > myfile.txt\n",
    "! echo 'Second line is here.'    >> myfile.txt\n",
    "! cat myfile.txt"
   ]
  },
  {
   "cell_type": "code",
   "execution_count": null,
   "metadata": {
    "collapsed": true
   },
   "outputs": [],
   "source": []
  },
  {
   "cell_type": "code",
   "execution_count": 45,
   "metadata": {
    "scrolled": true
   },
   "outputs": [
    {
     "data": {
      "text/plain": [
       "'This is the first line.\\nSecond line is here.\\n'"
      ]
     },
     "execution_count": 45,
     "metadata": {},
     "output_type": "execute_result"
    }
   ],
   "source": [
    "# read all lines into a string\n",
    "fp = open('myfile.txt', 'r')    # initially \n",
    "x = fp.read()\n",
    "fp.close()\n",
    "x"
   ]
  },
  {
   "cell_type": "code",
   "execution_count": 46,
   "metadata": {},
   "outputs": [
    {
     "data": {
      "text/plain": [
       "['This is the first line.\\n', 'Second line is here.\\n']"
      ]
     },
     "execution_count": 46,
     "metadata": {},
     "output_type": "execute_result"
    }
   ],
   "source": [
    "# read all lines into a list; one line per item\n",
    "fp = open('myfile.txt', 'r')    # initially \n",
    "x = fp.readlines()\n",
    "fp.close()\n",
    "x"
   ]
  },
  {
   "cell_type": "code",
   "execution_count": 47,
   "metadata": {},
   "outputs": [
    {
     "data": {
      "text/plain": [
       "('Thi', 's is th')"
      ]
     },
     "execution_count": 47,
     "metadata": {},
     "output_type": "execute_result"
    }
   ],
   "source": [
    "# read all lines into a list; one line per item\n",
    "fp = open('myfile.txt', 'r') \n",
    "x = fp.read(3)   # start from the beginning of the file, read 3 chars\n",
    "y = fp.read(7)   # read the next 7 chars\n",
    "fp.close()\n",
    "x, y"
   ]
  },
  {
   "cell_type": "code",
   "execution_count": 48,
   "metadata": {},
   "outputs": [
    {
     "name": "stdout",
     "output_type": "stream",
     "text": [
      "The magic number is 3.1415962\r\n",
      "Alternative format:  3.142"
     ]
    }
   ],
   "source": [
    "# write a string to a file\n",
    "\n",
    "x = 3.1415962\n",
    "fp = open('myfile.txt', 'w') \n",
    "fp.write('The magic number is {}\\n'.format(x))\n",
    "fp.write('Alternative format:  {:.3f}'.format(x))\n",
    "fp.close()\n",
    "! cat myfile.txt"
   ]
  },
  {
   "cell_type": "code",
   "execution_count": 49,
   "metadata": {
    "collapsed": true
   },
   "outputs": [],
   "source": [
    "! rm -f myfile.txt   # clean up"
   ]
  },
  {
   "cell_type": "markdown",
   "metadata": {},
   "source": [
    "## Important point of file writing\n",
    "\n",
    "Always ***close*** the file in order to flush all output to the file (to avoid incomplete writing)."
   ]
  },
  {
   "cell_type": "markdown",
   "metadata": {},
   "source": [
    "There is another syntax to open a file that will \"automatically\" close it."
   ]
  },
  {
   "cell_type": "markdown",
   "metadata": {},
   "source": [
    "```python\n",
    "with open('myfile.txt', 'rw') as f:  # open to read or write or whatever\n",
    "    # \n",
    "    x = f.readline\n",
    "    \n",
    "# We don't have to call f.close(); the file is automatically closed after leaving the block\n",
    "```"
   ]
  },
  {
   "cell_type": "code",
   "execution_count": 50,
   "metadata": {},
   "outputs": [
    {
     "name": "stdout",
     "output_type": "stream",
     "text": [
      "this is the first line\r\n",
      "this is the second line"
     ]
    }
   ],
   "source": [
    "with open('mydata.txt', 'w') as f:\n",
    "    f.write('this is the first line\\n')\n",
    "    f.write('this is the second line')\n",
    "\n",
    "! cat mydata.txt"
   ]
  },
  {
   "cell_type": "code",
   "execution_count": 51,
   "metadata": {
    "collapsed": true
   },
   "outputs": [],
   "source": [
    "# At this point, 'mydata.txt' is already closed, since we have left the `with open(...)` block.\n",
    "# Trying to use f will result in an error\n",
    "\n",
    "# f.write('another line')"
   ]
  },
  {
   "cell_type": "code",
   "execution_count": 52,
   "metadata": {
    "collapsed": true
   },
   "outputs": [],
   "source": [
    "! rm -f mydata.txt  # cleanup"
   ]
  },
  {
   "cell_type": "markdown",
   "metadata": {},
   "source": [
    "# Formatted text files\n",
    "\n",
    "There are many text file formats. Some examples are:\n",
    "- CSV\n",
    "- JSON\n",
    "\n",
    "Multiple items in a row are separated by comma(s), e.g.\n",
    "```\n",
    "Alison,90,25\n",
    "John,60,67\n",
    "Jay,50,88\n",
    "```"
   ]
  },
  {
   "cell_type": "markdown",
   "metadata": {
    "collapsed": true
   },
   "source": [
    "While it is possible to use a for-loop and `write` to write CSV, a better way is to use the Python csv module."
   ]
  },
  {
   "cell_type": "code",
   "execution_count": 53,
   "metadata": {},
   "outputs": [
    {
     "name": "stdout",
     "output_type": "stream",
     "text": [
      "Alison,90,25\r\n",
      "John,60,67\r\n",
      "Jay,50,88\r\n"
     ]
    }
   ],
   "source": [
    "# Method 1: for-loop + write\n",
    "\n",
    "a = [('Alison',90,25), ('John',60,67), ('Jay',50,88)]\n",
    "\n",
    "with open('mycsv.csv', 'w') as f:\n",
    "  for x in a:\n",
    "    f.write('{},{},{}\\n'.format(x[0],x[1],x[2]))\n",
    "    \n",
    "! cat mycsv.csv"
   ]
  },
  {
   "cell_type": "code",
   "execution_count": 54,
   "metadata": {},
   "outputs": [
    {
     "data": {
      "text/plain": [
       "['John', '90', '30']"
      ]
     },
     "execution_count": 54,
     "metadata": {},
     "output_type": "execute_result"
    }
   ],
   "source": [
    "a = 'John,90,30'\n",
    "a.split(',')"
   ]
  },
  {
   "cell_type": "code",
   "execution_count": 55,
   "metadata": {},
   "outputs": [
    {
     "name": "stdout",
     "output_type": "stream",
     "text": [
      "[('Alison', 90, 25), ('John', 60, 67), ('Jay', 50, 88)]\n"
     ]
    }
   ],
   "source": [
    "# to read the csv file using for-loop\n",
    "\n",
    "data = []\n",
    "with open('mycsv.csv', 'r') as f:\n",
    "    x = f.readlines()\n",
    "    for t in x:\n",
    "        s1,s2,s3 = t.strip().split(',')\n",
    "        data.append((s1,int(s2),int(s3)))\n",
    "        \n",
    "print(data)"
   ]
  },
  {
   "cell_type": "code",
   "execution_count": 56,
   "metadata": {
    "collapsed": true
   },
   "outputs": [],
   "source": [
    "! rm -f mycsv.csv    # clean up"
   ]
  },
  {
   "cell_type": "code",
   "execution_count": 57,
   "metadata": {},
   "outputs": [
    {
     "name": "stdout",
     "output_type": "stream",
     "text": [
      "Alison,90,25\r",
      "\r\n",
      "John,60,67\r",
      "\r\n",
      "Jay,50,88\r",
      "\r\n"
     ]
    }
   ],
   "source": [
    "# Method 2: using the csv module\n",
    "\n",
    "a = [('Alison',90,25), ('John',60,67), ('Jay',50,88)]\n",
    "\n",
    "import csv\n",
    "\n",
    "with open('mycsv.csv', 'w') as f:\n",
    "    w = csv.writer(f)\n",
    "    w.writerows(a)\n",
    "    \n",
    "! cat mycsv.csv"
   ]
  },
  {
   "cell_type": "code",
   "execution_count": 58,
   "metadata": {},
   "outputs": [
    {
     "name": "stdout",
     "output_type": "stream",
     "text": [
      "[('Alison', 90, 25), ('John', 60, 67), ('Jay', 50, 88)]\n"
     ]
    }
   ],
   "source": [
    "# to read csv file\n",
    "\n",
    "data = []\n",
    "\n",
    "with open('mycsv.csv', 'r') as f:\n",
    "    r = csv.reader(f)\n",
    "    for s1,s2,s3 in r:\n",
    "        data.append((s1,int(s2),int(s3)))\n",
    "\n",
    "print(data)"
   ]
  },
  {
   "cell_type": "code",
   "execution_count": 59,
   "metadata": {
    "collapsed": true
   },
   "outputs": [],
   "source": [
    "! rm -f mycsv.csv   # clean up"
   ]
  }
 ],
 "metadata": {
  "kernelspec": {
   "display_name": "Python 3",
   "language": "python",
   "name": "python3"
  },
  "language_info": {
   "codemirror_mode": {
    "name": "ipython",
    "version": 3
   },
   "file_extension": ".py",
   "mimetype": "text/x-python",
   "name": "python",
   "nbconvert_exporter": "python",
   "pygments_lexer": "ipython3",
   "version": "3.5.3"
  }
 },
 "nbformat": 4,
 "nbformat_minor": 2
}
