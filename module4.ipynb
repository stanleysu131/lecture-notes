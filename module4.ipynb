{
 "cells": [
  {
   "cell_type": "code",
   "execution_count": 1,
   "metadata": {},
   "outputs": [
    {
     "data": {
      "application/javascript": [
       "IPython.notebook.set_autosave_interval(0)"
      ]
     },
     "metadata": {},
     "output_type": "display_data"
    },
    {
     "name": "stdout",
     "output_type": "stream",
     "text": [
      "Autosave disabled\n"
     ]
    }
   ],
   "source": [
    "%autosave 0"
   ]
  },
  {
   "cell_type": "markdown",
   "metadata": {},
   "source": [
    "# Accessing functions in a different .py file\n",
    "\n",
    "Writing modular functions is a great way to increase code reuse.\n"
   ]
  },
  {
   "cell_type": "code",
   "execution_count": 2,
   "metadata": {},
   "outputs": [
    {
     "name": "stdout",
     "output_type": "stream",
     "text": [
      "\r\n",
      "# file myfunc.py\r\n",
      "\r\n",
      "def times10(x):\r\n",
      "    y = 10*x\r\n",
      "    return y\r\n",
      "    \r\n",
      "def times100(x):\r\n",
      "    y = 100*x\r\n",
      "    return y\r\n"
     ]
    }
   ],
   "source": [
    "# The function myfunc1 is in file myfunc.py\n",
    "#\n",
    "# In general, the function name is independent of/different from the file name\n",
    "\n",
    "# Use triple-quote to crate a multi-line string\n",
    "\n",
    "x = '''\n",
    "# file myfunc.py\n",
    "\n",
    "def times10(x):\n",
    "    y = 10*x\n",
    "    return y\n",
    "    \n",
    "def times100(x):\n",
    "    y = 100*x\n",
    "    return y\n",
    "'''\n",
    "f = open('myfunc.py', 'w')\n",
    "f.write(x)\n",
    "f.close()\n",
    "\n",
    "!cat myfunc.py"
   ]
  },
  {
   "cell_type": "markdown",
   "metadata": {},
   "source": [
    "There are different ways to import functions from another file. In Python, we call the importable item a \"module.\""
   ]
  },
  {
   "cell_type": "code",
   "execution_count": 3,
   "metadata": {},
   "outputs": [
    {
     "name": "stdout",
     "output_type": "stream",
     "text": [
      "200\n"
     ]
    }
   ],
   "source": [
    "# import the entire `myfunc`; can use any of its function.\n",
    "# All of the functions are under name space \"myfunc\".\n",
    "\n",
    "import myfunc\n",
    "\n",
    "y = myfunc.times10(20)\n",
    "print(y)"
   ]
  },
  {
   "cell_type": "code",
   "execution_count": 4,
   "metadata": {},
   "outputs": [
    {
     "name": "stdout",
     "output_type": "stream",
     "text": [
      "9900\n"
     ]
    }
   ],
   "source": [
    "# import only function times100 from myfunc.py\n",
    "# Note the imported function now exists in the namespace\n",
    "\n",
    "from myfunc import times100\n",
    "\n",
    "y = times100(99)\n",
    "print(y)\n",
    "\n",
    "# we have no access to times10() because it is not imported. \n",
    "# Calling times10() results in an error.\n",
    "# times10(123)"
   ]
  },
  {
   "cell_type": "code",
   "execution_count": 5,
   "metadata": {},
   "outputs": [
    {
     "name": "stdout",
     "output_type": "stream",
     "text": [
      "y1 = 31.4159, y2 = 127.0\n"
     ]
    }
   ],
   "source": [
    "# import all functions in myfunc.py\n",
    "\n",
    "from myfunc import *\n",
    "\n",
    "y1 = times10(3.14159)\n",
    "y2 = times100(1.27)\n",
    "print('y1 = {}, y2 = {}'.format(y1,y2))"
   ]
  },
  {
   "cell_type": "code",
   "execution_count": 6,
   "metadata": {
    "collapsed": true
   },
   "outputs": [],
   "source": [
    "! rm -f myfunc.py  # clean up"
   ]
  },
  {
   "cell_type": "markdown",
   "metadata": {},
   "source": [
    "## A word about re-importing an module\n",
    "\n",
    "After a module has been imported, if changes are made to the module, it has to be reloaded. To reload, use:\n",
    "```\n",
    "from imp import reload\n",
    "reload(myfunc)\n",
    "```\n",
    "instead of simply `import`."
   ]
  },
  {
   "cell_type": "code",
   "execution_count": 7,
   "metadata": {},
   "outputs": [
    {
     "name": "stdout",
     "output_type": "stream",
     "text": [
      "\r\n",
      "def func1():\r\n",
      "    print('original func')\r\n"
     ]
    }
   ],
   "source": [
    "s = '''\n",
    "def func1():\n",
    "    print('original func')\n",
    "'''\n",
    "with open('myfunc2.py','w') as f:\n",
    "    f.write(s)\n",
    "    \n",
    "!cat myfunc2.py"
   ]
  },
  {
   "cell_type": "code",
   "execution_count": 8,
   "metadata": {},
   "outputs": [
    {
     "name": "stdout",
     "output_type": "stream",
     "text": [
      "original func\n"
     ]
    }
   ],
   "source": [
    "import myfunc2\n",
    "myfunc2.func1()"
   ]
  },
  {
   "cell_type": "code",
   "execution_count": 9,
   "metadata": {},
   "outputs": [
    {
     "name": "stdout",
     "output_type": "stream",
     "text": [
      "\r\n",
      "def func1():\r\n",
      "    print('new func')\r\n"
     ]
    }
   ],
   "source": [
    "# make changes to myfunc2\n",
    "\n",
    "s = '''\n",
    "def func1():\n",
    "    print('new func')\n",
    "'''\n",
    "with open('myfunc2.py','w') as f:\n",
    "    f.write(s)\n",
    "    \n",
    "!cat myfunc2.py"
   ]
  },
  {
   "cell_type": "code",
   "execution_count": 10,
   "metadata": {},
   "outputs": [
    {
     "name": "stdout",
     "output_type": "stream",
     "text": [
      "original func\n"
     ]
    }
   ],
   "source": [
    "# import does not load the new version - still use the original function!\n",
    "import myfunc2\n",
    "myfunc2.func1()"
   ]
  },
  {
   "cell_type": "code",
   "execution_count": 11,
   "metadata": {},
   "outputs": [
    {
     "name": "stdout",
     "output_type": "stream",
     "text": [
      "new func\n"
     ]
    }
   ],
   "source": [
    "# must use reload from module \"imp\"\n",
    "from imp import reload\n",
    "reload(myfunc2)\n",
    "myfunc2.func1()       # now we have loaded the new version"
   ]
  },
  {
   "cell_type": "code",
   "execution_count": 12,
   "metadata": {
    "collapsed": true
   },
   "outputs": [],
   "source": [
    "! rm -f myfunc1.py myfunc2.py   # clean up"
   ]
  },
  {
   "cell_type": "markdown",
   "metadata": {},
   "source": [
    "# Python package"
   ]
  },
  {
   "cell_type": "markdown",
   "metadata": {},
   "source": [
    "A Python package contains one or multiple modules, organized in subdirectories.\n",
    "\n",
    "```\n",
    "mymodule/__init__.py\n",
    "         moduleA.py\n",
    "         moduleB.py\n",
    "         /dir1/__init__.py\n",
    "               moduleX.py\n",
    "               moduleY.py\n",
    "         /dir2/__init__.py\n",
    "               moduleP.py\n",
    "               moduleQ.py\n",
    "```\n",
    "\n",
    "Due to the existence of the `__init__.py` files, Python understands that the entire directory under `mymodule` belong to one hierarchical module. There are different ways to access the functions:\n",
    "\n",
    "Import the whole module:\n",
    "\n",
    "```\n",
    "import mymodule\n",
    "mymodule.moduleA.func1()\n",
    "mymodule.moduleB.func2()\n",
    "```\n",
    "\n",
    "Import a sub-module:\n",
    "```\n",
    "from mymodule import moduleB\n",
    "moduleB.func1()\n",
    "```\n",
    "\n",
    "Import just a single function from a submodule:\n",
    "```\n",
    "from mymodule.moduleA import func1\n",
    "func1()\n",
    "\n",
    "```"
   ]
  },
  {
   "cell_type": "markdown",
   "metadata": {},
   "source": [
    "## Name collision -- two functions of the same name\n",
    "\n",
    "Suppose we have two .py files. Each of the file contains a function named `magic_func()`:"
   ]
  },
  {
   "cell_type": "code",
   "execution_count": 13,
   "metadata": {},
   "outputs": [
    {
     "name": "stdout",
     "output_type": "stream",
     "text": [
      "\n",
      "def magic_func():\n",
      "    print('magic_func from file file1.py')\n",
      "\n",
      "def magic_func():\n",
      "    print('magic_func from file file2.py')\n"
     ]
    }
   ],
   "source": [
    "s1 = '''\n",
    "def magic_func():\n",
    "    print('magic_func from file file1.py')\n",
    "'''\n",
    "s2 = '''\n",
    "def magic_func():\n",
    "    print('magic_func from file file2.py')\n",
    "'''\n",
    "\n",
    "with open('file1.py', 'w') as f: f.write(s1)\n",
    "with open('file2.py', 'w') as f: f.write(s2)\n",
    "    \n",
    "! cat file1.py\n",
    "! cat file2.py\n",
    "! sleep 1"
   ]
  },
  {
   "cell_type": "markdown",
   "metadata": {},
   "source": [
    "When we use the `import *` approach, both functions `magic_func()` are loaded into the same name space. The one loaded later will replace the previous, possibly causing confusion, or problems in the code. Avoid this!"
   ]
  },
  {
   "cell_type": "code",
   "execution_count": 14,
   "metadata": {},
   "outputs": [
    {
     "name": "stdout",
     "output_type": "stream",
     "text": [
      "magic_func from file file2.py\n"
     ]
    }
   ],
   "source": [
    "# name collision\n",
    "\n",
    "from file1 import *\n",
    "from file2 import *\n",
    "magic_func()"
   ]
  },
  {
   "cell_type": "markdown",
   "metadata": {},
   "source": [
    "After loading `file2` (after loading `file1`), the access to `magic_func()` in file1 is lost."
   ]
  },
  {
   "cell_type": "code",
   "execution_count": 15,
   "metadata": {
    "collapsed": true
   },
   "outputs": [],
   "source": [
    "! rm -f file1.py file2.py   # clean up"
   ]
  },
  {
   "cell_type": "markdown",
   "metadata": {},
   "source": [
    "# Regular expression\n",
    "\n",
    "Search and find particular text patterns in a string."
   ]
  },
  {
   "cell_type": "code",
   "execution_count": 16,
   "metadata": {
    "collapsed": true
   },
   "outputs": [],
   "source": [
    "# example\n",
    "\n",
    "data = '''\n",
    "From MAILER-DAEMON Fri Jul  8 12:08:34 2011\n",
    "From: Author <author1@example1.com>\n",
    "To: Recipient <recipient@example.com>\n",
    "Subject: Sample message 1\n",
    "\n",
    "This is the body.\n",
    ">From (should be escaped).\n",
    "There are 3 lines.\n",
    "\n",
    "From MAILER-DAEMON Fri Jul  8 12:08:34 2011\n",
    "From: Author <author2@example2.com>\n",
    "To: Recipient <recipient@example.com>\n",
    "Subject: Sample message 2\n",
    "\n",
    "This is the second body.\n",
    "'''"
   ]
  },
  {
   "cell_type": "code",
   "execution_count": 17,
   "metadata": {},
   "outputs": [
    {
     "name": "stdout",
     "output_type": "stream",
     "text": [
      "From: Author <author1@example1.com>\n",
      "From: Author <author2@example2.com>\n"
     ]
    }
   ],
   "source": [
    "import re\n",
    "import io\n",
    "f = io.StringIO(data) # convert string to file object\n",
    "for line in f.readlines():\n",
    "    line = line.strip()\n",
    "    if re.search('From:', line):\n",
    "        print(line)"
   ]
  },
  {
   "cell_type": "markdown",
   "metadata": {},
   "source": [
    "`re.research` returns the match object if found, otherwise returns None."
   ]
  },
  {
   "cell_type": "code",
   "execution_count": 18,
   "metadata": {},
   "outputs": [
    {
     "data": {
      "text/plain": [
       "<_sre.SRE_Match object; span=(0, 5), match='From:'>"
      ]
     },
     "execution_count": 18,
     "metadata": {},
     "output_type": "execute_result"
    }
   ],
   "source": [
    "x = re.search('From:', 'From: Author <author2@example2.com>')\n",
    "x"
   ]
  },
  {
   "cell_type": "markdown",
   "metadata": {},
   "source": [
    "## A word about non-Boolean expression in control flow statements\n",
    "\n",
    "In the context of Boolean operations, and also when expressions are used by control flow statements, the following values are interpreted as false: False, None, numeric zero of all types, and empty strings and containers (including strings, tuples, lists, dictionaries, sets and frozensets). All other values are interpreted as true.\n",
    "\n",
    "Reference: https://docs.python.org/3/reference/expressions.html#boolean-operations"
   ]
  },
  {
   "cell_type": "code",
   "execution_count": 19,
   "metadata": {},
   "outputs": [
    {
     "name": "stdout",
     "output_type": "stream",
     "text": [
      "empty dict is false\n"
     ]
    }
   ],
   "source": [
    "# example - empty dict is evaluated to \"False\"\n",
    "d = {}\n",
    "if d:\n",
    "    print(\"empty dict is true\")\n",
    "else:\n",
    "    print(\"empty dict is false\")"
   ]
  },
  {
   "cell_type": "code",
   "execution_count": 20,
   "metadata": {},
   "outputs": [
    {
     "name": "stdout",
     "output_type": "stream",
     "text": [
      "empty str is false\n"
     ]
    }
   ],
   "source": [
    "# example - empty string is evaluated to \"False\"\n",
    "d = \"\"\n",
    "if d:\n",
    "    print(\"empty str is true\")\n",
    "else:\n",
    "    print(\"empty str is false\")"
   ]
  },
  {
   "cell_type": "markdown",
   "metadata": {},
   "source": [
    "If a match is found in `re.search()`, a match object is returned. Consequently, the `if re.search(...)` condition is true. Otherwise, when this is no match, `None` is returned and the `if re.search()` condition is `False`."
   ]
  },
  {
   "cell_type": "markdown",
   "metadata": {},
   "source": [
    "## Character matching \n",
    "\n",
    "Some common examples (see regular expression documentation for more):\n",
    "\n",
    "```\n",
    "  Syntax | Explanation\n",
    "---------|----------------------------------\n",
    " ^       | match the beginning of the line\n",
    " $       | match to the end of the line\n",
    " .       | match any character\n",
    " \\s      | match any white space character\n",
    " \\S      | match any non-white space character\n",
    " *       | to match zero or more of the preceding character\n",
    " *?      | to match zero or more of the preceding character in \"non-greedy mode\"\n",
    " +       | to match one or more of the preceding character\n",
    " +?      | to match one or more of the preceding character in \"non-greedy mode\"\n",
    " [a-z]   | a single character in the range\n",
    " [^a-z]  | a single character not in the range\n",
    " [aei]   | to match a single character listed\n",
    "  ?      | 0 or 1 repetition of the preceding character\n",
    "  {m}    | repeat m times\n",
    "```"
   ]
  },
  {
   "cell_type": "markdown",
   "metadata": {},
   "source": [
    "To use the Python regular expression module, use:\n",
    "```\n",
    "    import re\n",
    "```\n",
    "\n",
    "One of the commonly used function is `re.search`; it returns a match object if found, otherwise returns `None`."
   ]
  },
  {
   "cell_type": "code",
   "execution_count": 21,
   "metadata": {
    "collapsed": true
   },
   "outputs": [],
   "source": [
    "import re\n",
    "\n",
    "txt = ['from: author@example.com',\n",
    "       'From: author@example.com',\n",
    "       '  from: author@example.com',\n",
    "       '  From: author@example.com',\n",
    "       'from  author@example.com',\n",
    "       'frommm xxx yyy',\n",
    "       '90095-1557',\n",
    "       '90025-1234',\n",
    "       '91125-1234',\n",
    "       '91225-1234',\n",
    "       'zip code 90095-1557',\n",
    "       'zip code 90095 in Los Angeles',\n",
    "       'hello',\n",
    "       'hallo',\n",
    "       'hxllo',\n",
    "       'ab ab',\n",
    "       'abc abc',\n",
    "       'abccx abccx',\n",
    "       'abcccx abcccx'\n",
    "]"
   ]
  },
  {
   "cell_type": "code",
   "execution_count": 22,
   "metadata": {},
   "outputs": [
    {
     "name": "stdout",
     "output_type": "stream",
     "text": [
      "From: author@example.com\n",
      "  From: author@example.com\n"
     ]
    }
   ],
   "source": [
    "for line in txt:\n",
    "    if re.search('F..m:', line):\n",
    "        print(line)"
   ]
  },
  {
   "cell_type": "code",
   "execution_count": 23,
   "metadata": {},
   "outputs": [
    {
     "name": "stdout",
     "output_type": "stream",
     "text": [
      "From: author@example.com\n"
     ]
    }
   ],
   "source": [
    "for line in txt:\n",
    "    if re.search('^F..m:', line):\n",
    "        print(line)"
   ]
  },
  {
   "cell_type": "code",
   "execution_count": 24,
   "metadata": {},
   "outputs": [
    {
     "name": "stdout",
     "output_type": "stream",
     "text": [
      "from: author@example.com\n"
     ]
    }
   ],
   "source": [
    "for line in txt:\n",
    "    if re.search('^f..m:', line):\n",
    "        print(line)"
   ]
  },
  {
   "cell_type": "code",
   "execution_count": 25,
   "metadata": {},
   "outputs": [
    {
     "name": "stdout",
     "output_type": "stream",
     "text": [
      "from: author@example.com\n",
      "  from: author@example.com\n",
      "from  author@example.com\n",
      "frommm xxx yyy\n"
     ]
    }
   ],
   "source": [
    "for line in txt:\n",
    "    if re.search('f..m', line):\n",
    "        print(line)"
   ]
  },
  {
   "cell_type": "code",
   "execution_count": 26,
   "metadata": {},
   "outputs": [
    {
     "name": "stdout",
     "output_type": "stream",
     "text": [
      "from  author@example.com\n"
     ]
    }
   ],
   "source": [
    "for line in txt:\n",
    "    if re.search('f..m\\s', line):\n",
    "        print(line)"
   ]
  },
  {
   "cell_type": "code",
   "execution_count": 27,
   "metadata": {},
   "outputs": [
    {
     "name": "stdout",
     "output_type": "stream",
     "text": [
      "from: author@example.com\n",
      "  from: author@example.com\n",
      "frommm xxx yyy\n"
     ]
    }
   ],
   "source": [
    "for line in txt:\n",
    "    if re.search('f..m\\S', line):\n",
    "        print(line)"
   ]
  },
  {
   "cell_type": "code",
   "execution_count": 28,
   "metadata": {},
   "outputs": [
    {
     "name": "stdout",
     "output_type": "stream",
     "text": [
      "90095-1557\n",
      "zip code 90095-1557\n"
     ]
    }
   ],
   "source": [
    "for line in txt:\n",
    "    if re.search('900[93]5-', line):\n",
    "        print(line)"
   ]
  },
  {
   "cell_type": "code",
   "execution_count": 29,
   "metadata": {},
   "outputs": [
    {
     "name": "stdout",
     "output_type": "stream",
     "text": [
      "90095-1557\n",
      "90025-1234\n"
     ]
    }
   ],
   "source": [
    "for line in txt:\n",
    "    if re.search('^90{2}[0-9]5', line):\n",
    "        print(line)"
   ]
  },
  {
   "cell_type": "code",
   "execution_count": 30,
   "metadata": {},
   "outputs": [
    {
     "name": "stdout",
     "output_type": "stream",
     "text": [
      "hello\n",
      "hallo\n"
     ]
    }
   ],
   "source": [
    "for line in txt:\n",
    "    if re.search('h[ea]llo', line):\n",
    "        print(line)"
   ]
  },
  {
   "cell_type": "code",
   "execution_count": 31,
   "metadata": {},
   "outputs": [
    {
     "name": "stdout",
     "output_type": "stream",
     "text": [
      "ab ab\n",
      "abc abc\n",
      "abccx abccx\n",
      "abcccx abcccx\n"
     ]
    }
   ],
   "source": [
    "for line in txt:\n",
    "    if re.search('^abc*', line):\n",
    "        print(line)"
   ]
  },
  {
   "cell_type": "code",
   "execution_count": 32,
   "metadata": {},
   "outputs": [
    {
     "name": "stdout",
     "output_type": "stream",
     "text": [
      "abc abc\n",
      "abccx abccx\n",
      "abcccx abcccx\n"
     ]
    }
   ],
   "source": [
    "for line in txt:\n",
    "    if re.search('^abc+', line):\n",
    "        print(line)"
   ]
  },
  {
   "cell_type": "code",
   "execution_count": 33,
   "metadata": {},
   "outputs": [
    {
     "name": "stdout",
     "output_type": "stream",
     "text": [
      "match! From: stephen.smith@foo.bar.com\n"
     ]
    }
   ],
   "source": [
    "# example of wild-card matching: one or more characters in between\n",
    "\n",
    "s = 'From: stephen.smith@foo.bar.com'\n",
    "\n",
    "if re.search('^From:.+@', s):\n",
    "    print(\"match!\", s)"
   ]
  },
  {
   "cell_type": "code",
   "execution_count": 34,
   "metadata": {},
   "outputs": [
    {
     "data": {
      "text/plain": [
       "<_sre.SRE_Match object; span=(0, 2), match='ab'>"
      ]
     },
     "execution_count": 34,
     "metadata": {},
     "output_type": "execute_result"
    }
   ],
   "source": [
    "s = 'abc'             # 'a'\n",
    "re.search('ab*', s)   # matches zero or more repetitions of 'b'"
   ]
  },
  {
   "cell_type": "markdown",
   "metadata": {},
   "source": [
    "## Extracting data from texts using `re`\n",
    "\n",
    "\n",
    "`re.findall`: returns all found patterns in a list"
   ]
  },
  {
   "cell_type": "code",
   "execution_count": 35,
   "metadata": {},
   "outputs": [
    {
     "data": {
      "text/plain": [
       "['<author1@foo1.com>', 'reader2@bar.com']"
      ]
     },
     "execution_count": 35,
     "metadata": {},
     "output_type": "execute_result"
    }
   ],
   "source": [
    "# the pattern of an email address\n",
    "\n",
    "import re\n",
    "s = 'Hello from <author1@foo1.com> to reader2@bar.com about the meeting @4pm'\n",
    "re.findall('\\S+@\\S+', s)"
   ]
  },
  {
   "cell_type": "markdown",
   "metadata": {},
   "source": [
    "Q: Why is @4pm not matched in the example above?"
   ]
  },
  {
   "cell_type": "code",
   "execution_count": 36,
   "metadata": {},
   "outputs": [
    {
     "data": {
      "text/plain": [
       "['a', '', '']"
      ]
     },
     "execution_count": 36,
     "metadata": {},
     "output_type": "execute_result"
    }
   ],
   "source": [
    "s = 'ab'\n",
    "re.findall('a*', s)"
   ]
  },
  {
   "cell_type": "markdown",
   "metadata": {},
   "source": [
    "## greedy vs non-greedy mode"
   ]
  },
  {
   "cell_type": "code",
   "execution_count": 37,
   "metadata": {},
   "outputs": [
    {
     "data": {
      "text/plain": [
       "['<h1>This is a title</h1>']"
      ]
     },
     "execution_count": 37,
     "metadata": {},
     "output_type": "execute_result"
    }
   ],
   "source": [
    "# greedy matching\n",
    "s = '<h1>This is a title</h1>'\n",
    "re.findall('<.*>', s)"
   ]
  },
  {
   "cell_type": "code",
   "execution_count": 38,
   "metadata": {},
   "outputs": [
    {
     "data": {
      "text/plain": [
       "['<h1>', '</h1>']"
      ]
     },
     "execution_count": 38,
     "metadata": {},
     "output_type": "execute_result"
    }
   ],
   "source": [
    "# non-greedy matching\n",
    "re.findall('<.*?>', s)"
   ]
  },
  {
   "cell_type": "markdown",
   "metadata": {},
   "source": [
    "## Search and extracting\n",
    "\n",
    "Use `(` `)` to extract the portion of the matched substring"
   ]
  },
  {
   "cell_type": "code",
   "execution_count": 39,
   "metadata": {
    "collapsed": true
   },
   "outputs": [],
   "source": [
    "s = '<h1>This is a title</h1>'"
   ]
  },
  {
   "cell_type": "code",
   "execution_count": 40,
   "metadata": {},
   "outputs": [
    {
     "data": {
      "text/plain": [
       "['This is a title']"
      ]
     },
     "execution_count": 40,
     "metadata": {},
     "output_type": "execute_result"
    }
   ],
   "source": [
    "re.findall('<h1>(.*?)</h1>', s)"
   ]
  },
  {
   "cell_type": "code",
   "execution_count": 41,
   "metadata": {
    "collapsed": true
   },
   "outputs": [],
   "source": [
    "s = '''\n",
    "X-SPAM-SCORE: 0.7654\n",
    "X-SPAM-PROBABILITY: 0.05\n",
    "'''"
   ]
  },
  {
   "cell_type": "code",
   "execution_count": 42,
   "metadata": {},
   "outputs": [
    {
     "name": "stdout",
     "output_type": "stream",
     "text": [
      "['0.7654']\n",
      "['0.05']\n"
     ]
    }
   ],
   "source": [
    "import re, io\n",
    "f = io.StringIO(s)\n",
    "for line in f.readlines():\n",
    "    line = line.strip()\n",
    "    x = re.findall('^X\\S*: ([0-9.]+)', line)\n",
    "    if len(x) > 0:\n",
    "        print(x)"
   ]
  },
  {
   "cell_type": "code",
   "execution_count": 43,
   "metadata": {},
   "outputs": [
    {
     "data": {
      "text/plain": [
       "['12345']"
      ]
     },
     "execution_count": 43,
     "metadata": {},
     "output_type": "execute_result"
    }
   ],
   "source": [
    "# extracting the number from a URL\n",
    "\n",
    "s = 'http://foo.bar.com/view/?view=rev&rev=12345'\n",
    "\n",
    "re.findall('^http:.*rev=([0-9]+)', s)"
   ]
  },
  {
   "cell_type": "code",
   "execution_count": 44,
   "metadata": {},
   "outputs": [
    {
     "data": {
      "text/plain": [
       "['14']"
      ]
     },
     "execution_count": 44,
     "metadata": {},
     "output_type": "execute_result"
    }
   ],
   "source": [
    "# capture the hour\n",
    "\n",
    "s = 'From mr.anderson@foo.bar.com Tue Apr 25 14:30:25 2017'\n",
    "\n",
    "re.findall('^From .* ([0-9][0-9]):', s)"
   ]
  },
  {
   "cell_type": "code",
   "execution_count": 45,
   "metadata": {},
   "outputs": [
    {
     "data": {
      "text/plain": [
       "['14']"
      ]
     },
     "execution_count": 45,
     "metadata": {},
     "output_type": "execute_result"
    }
   ],
   "source": [
    "re.findall('^From .* ([0-9]{2}):', s)   # {2}: repeat 2 times"
   ]
  },
  {
   "cell_type": "markdown",
   "metadata": {},
   "source": [
    "# Database\n",
    "\n",
    "- A database is a file organized for storing data\n",
    "- Query  (read)\n",
    "- Update (write)\n",
    "- Follow a standard format\n",
    "- data have types\n",
    "\n",
    "Examples: MySQL, PostgreSQL, SQLite, etc.\n",
    "\n",
    "SQLite is part of Python distribution, so we will use this to show examples. Using other database systems from Python is similar.\n",
    "\n",
    "To use SQLite in Python,\n",
    "```\n",
    "    import sqlite3\n",
    "```"
   ]
  },
  {
   "cell_type": "markdown",
   "metadata": {},
   "source": [
    "## SQL basics\n",
    "\n",
    "This is not a formal introduction of SQL; you should take a database class or read a book if you want to know more about it. \n",
    "\n",
    "Some working knowledge:\n",
    "\n",
    "- database table\n",
    "- row and columns\n",
    "- each column has a data type\n",
    "- relational databases\n",
    "\n",
    "Basic SQL commands:\n",
    "- select: query\n",
    "- insert: add a row in a table\n",
    "- create: create a new table\n",
    "- drop: delete a table"
   ]
  },
  {
   "cell_type": "markdown",
   "metadata": {},
   "source": [
    "## SQL basics\n",
    "\n",
    "Commonly used SQL commands:\n",
    "\n",
    "`CREATE TABLE table_name`\n",
    "\n",
    "`INSERT INTO table_name (column_name1, column_name2, ...) VALUES (v1,v2,...)`\n",
    "\n",
    "`SELECT * FROM table_name WHERE <condition>`\n",
    "\n",
    "`UPDATE table_name SET column_name=XXX WHERE <condition>`\n",
    "\n",
    "`DELETE FROM table_name WHERE <condition>`\n"
   ]
  },
  {
   "cell_type": "markdown",
   "metadata": {},
   "source": [
    "## Creating a database"
   ]
  },
  {
   "cell_type": "code",
   "execution_count": 46,
   "metadata": {
    "collapsed": true
   },
   "outputs": [],
   "source": [
    "import sqlite3\n",
    "\n",
    "conn = sqlite3.connect('mydb.sqlite')\n",
    "cur = conn.cursor()            # similar to a file handle, i.e. f = open(...)\n",
    "\n",
    "cur.execute('DROP TABLE IF EXISTS mytable')                      # SQL command\n",
    "cur.execute('CREATE TABLE mytable (name TEXT, score INTEGER)')   # SQL command\n",
    "\n",
    "# insert some records\n",
    "\n",
    "cur.execute('INSERT INTO mytable (name, score) VALUES (?,?)', ('John', 60))\n",
    "cur.execute('INSERT INTO mytable (name, score) VALUES (?,?)', ('Jane', 70))\n",
    "cur.execute('INSERT INTO mytable (name, score) VALUES (?,?)', ('Jim', 90))\n",
    "\n",
    "conn.commit()       # don't forget to commit!\n",
    "conn.close()"
   ]
  },
  {
   "cell_type": "markdown",
   "metadata": {},
   "source": [
    "Batch processing - prepare the data in a list of tuples, then call `executemany`:"
   ]
  },
  {
   "cell_type": "code",
   "execution_count": 47,
   "metadata": {
    "collapsed": true
   },
   "outputs": [],
   "source": [
    "import sqlite3\n",
    "\n",
    "conn = sqlite3.connect('mydb.sqlite')\n",
    "cur = conn.cursor()            # similar to a file handle, i.e. f = open(...)\n",
    "\n",
    "cur.execute('DROP TABLE IF EXISTS mytable')                      # SQL command\n",
    "cur.execute('CREATE TABLE mytable (name TEXT, score INTEGER)')   # SQL command\n",
    "\n",
    "d = [('John', 66), ('Jane', 77), ('Jim', 99)]\n",
    "\n",
    "cur.executemany('INSERT INTO mytable (name, score) VALUES (?,?)', d)\n",
    "\n",
    "conn.commit()       # don't forget to commit!\n",
    "conn.close()"
   ]
  },
  {
   "cell_type": "markdown",
   "metadata": {},
   "source": [
    "## query a table"
   ]
  },
  {
   "cell_type": "code",
   "execution_count": 48,
   "metadata": {},
   "outputs": [
    {
     "name": "stdout",
     "output_type": "stream",
     "text": [
      "('John', 66)\n",
      "('Jane', 77)\n",
      "('Jim', 99)\n"
     ]
    }
   ],
   "source": [
    "import sqlite3\n",
    "\n",
    "conn = sqlite3.connect('mydb.sqlite')\n",
    "cur = conn.cursor()\n",
    "\n",
    "cur.execute('SELECT * from mytable')\n",
    "for row in cur:\n",
    "    print(row)"
   ]
  },
  {
   "cell_type": "code",
   "execution_count": 49,
   "metadata": {},
   "outputs": [
    {
     "name": "stdout",
     "output_type": "stream",
     "text": [
      "('John', 66)\n",
      "('Jane', 77)\n",
      "('Jim', 99)\n"
     ]
    }
   ],
   "source": [
    "cur.execute('SELECT * from mytable where score > 60')\n",
    "for row in cur:\n",
    "    print(row)"
   ]
  },
  {
   "cell_type": "code",
   "execution_count": 50,
   "metadata": {},
   "outputs": [
    {
     "name": "stdout",
     "output_type": "stream",
     "text": [
      "('John', 66)\n"
     ]
    }
   ],
   "source": [
    "cur.execute('SELECT * from mytable where name = \"John\"')\n",
    "for row in cur:\n",
    "    print(row)"
   ]
  },
  {
   "cell_type": "markdown",
   "metadata": {},
   "source": [
    "## Update a row"
   ]
  },
  {
   "cell_type": "code",
   "execution_count": 51,
   "metadata": {},
   "outputs": [
    {
     "name": "stdout",
     "output_type": "stream",
     "text": [
      "('John', 99)\n"
     ]
    }
   ],
   "source": [
    "# update the row where name = \"John\"\n",
    "\n",
    "cur.execute('UPDATE mytable SET score=99 where name = \"John\"')\n",
    "conn.commit()\n",
    "\n",
    "cur.execute('SELECT * from mytable where name = \"John\"')\n",
    "for row in cur:\n",
    "    print(row)"
   ]
  },
  {
   "cell_type": "markdown",
   "metadata": {},
   "source": [
    "## Delete a row"
   ]
  },
  {
   "cell_type": "code",
   "execution_count": 52,
   "metadata": {},
   "outputs": [
    {
     "name": "stdout",
     "output_type": "stream",
     "text": [
      "('Jane', 77)\n",
      "('Jim', 99)\n"
     ]
    }
   ],
   "source": [
    "# delete the \"John\" row\n",
    "\n",
    "cur.execute('DELETE FROM mytable WHERE name = \"John\"')\n",
    "conn.commit()\n",
    "\n",
    "cur.execute('SELECT * from mytable')\n",
    "for row in cur:\n",
    "    print(row)"
   ]
  },
  {
   "cell_type": "code",
   "execution_count": 53,
   "metadata": {
    "collapsed": true
   },
   "outputs": [],
   "source": [
    "! rm -f mydb.sqlite  # cleanup"
   ]
  },
  {
   "cell_type": "markdown",
   "metadata": {
    "collapsed": true
   },
   "source": [
    "# Datetime\n",
    "\n",
    "```\n",
    "import datetime\n",
    "```"
   ]
  },
  {
   "cell_type": "code",
   "execution_count": 54,
   "metadata": {},
   "outputs": [
    {
     "data": {
      "text/plain": [
       "datetime.datetime(2017, 7, 19, 15, 58, 30, 988458)"
      ]
     },
     "execution_count": 54,
     "metadata": {},
     "output_type": "execute_result"
    }
   ],
   "source": [
    "import datetime\n",
    "\n",
    "datetime.datetime.now()"
   ]
  },
  {
   "cell_type": "markdown",
   "metadata": {},
   "source": [
    "Since some other packages may also have the `datetime()` function. It's probably a good idea not to use the \"`from datetime import *`\" if there is a change of confusion."
   ]
  },
  {
   "cell_type": "code",
   "execution_count": 55,
   "metadata": {},
   "outputs": [
    {
     "name": "stdout",
     "output_type": "stream",
     "text": [
      "t1 = 2017-07-19 15:58:30.995599\n",
      "t2 = 2017-07-19 14:58:30.995599\n"
     ]
    }
   ],
   "source": [
    "t1 = datetime.datetime.now()\n",
    "t2 = t1 - datetime.timedelta(hours=1)    # t2 = t1 - delta_t\n",
    "print('t1 = {}\\nt2 = {}'.format(t1,t2))"
   ]
  },
  {
   "cell_type": "code",
   "execution_count": 56,
   "metadata": {},
   "outputs": [
    {
     "name": "stdout",
     "output_type": "stream",
     "text": [
      "ISO time format = 2017-04-25 23:57:19\n"
     ]
    }
   ],
   "source": [
    "# format the time string\n",
    "\n",
    "x = datetime.datetime(2017, 4, 25, 23, 57, 19)\n",
    "print('ISO time format = {}'.format(x.strftime('%Y-%m-%d %H:%M:%S')))"
   ]
  },
  {
   "cell_type": "code",
   "execution_count": 57,
   "metadata": {},
   "outputs": [
    {
     "data": {
      "text/plain": [
       "'2017-04-25 23:00:00'"
      ]
     },
     "execution_count": 57,
     "metadata": {},
     "output_type": "execute_result"
    }
   ],
   "source": [
    "# the fields of datetime() are padded with zero if not specified\n",
    "\n",
    "x = datetime.datetime(2017, 4, 25, 23)  # does not specify minute and second\n",
    "x.strftime('%Y-%m-%d %H:%M:%S')"
   ]
  },
  {
   "cell_type": "code",
   "execution_count": 58,
   "metadata": {
    "collapsed": true
   },
   "outputs": [],
   "source": [
    "# write time stamp to a database\n",
    "\n",
    "import sqlite3\n",
    "import datetime\n",
    "\n",
    "conn = sqlite3.connect('timestamp.sqlite')\n",
    "cur = conn.cursor()\n",
    "cur.execute('DROP TABLE IF EXISTS ts ')\n",
    "cur.execute('CREATE TABLE ts (timestamp datetime, what text)')\n",
    "\n",
    "cur.execute('INSERT INTO ts (timestamp, what) VALUES (?,?)', \n",
    "            (datetime.datetime.now(), 'I ate a cake.'))\n",
    "cur.execute('INSERT INTO ts (timestamp, what) VALUES (?,?)', \n",
    "            (datetime.datetime(2017, 4, 25, 23, 0), 'I did my homework.'))\n",
    "cur.execute('INSERT INTO ts (timestamp, what) VALUES (?,?)', \n",
    "            (datetime.datetime.now().strftime('%Y-%m-%d %H:%M:%S'), \n",
    "             'I wrote a Python function.'))\n",
    "cur.execute('INSERT INTO ts (timestamp, what) VALUES (?,?)', \n",
    "            (datetime.datetime(2016, 4, 25, 23, 0), 'last year.'))\n",
    "\n",
    "conn.commit()\n",
    "conn.close()"
   ]
  },
  {
   "cell_type": "code",
   "execution_count": 59,
   "metadata": {},
   "outputs": [
    {
     "name": "stdout",
     "output_type": "stream",
     "text": [
      "('2017-07-19 15:58:31.042132', 'I ate a cake.')\n",
      "('2017-04-25 23:00:00', 'I did my homework.')\n",
      "('2017-07-19 15:58:31', 'I wrote a Python function.')\n"
     ]
    }
   ],
   "source": [
    "# query example\n",
    "\n",
    "conn = sqlite3.connect('timestamp.sqlite')\n",
    "cur = conn.cursor()\n",
    "cur.execute('SELECT * from ts where timestamp > \"2017-01-01\"')\n",
    "for row in cur:\n",
    "    print(row)\n",
    "conn.close()"
   ]
  },
  {
   "cell_type": "code",
   "execution_count": 60,
   "metadata": {
    "collapsed": true
   },
   "outputs": [],
   "source": [
    "!rm -f timestamp.sqlite   # clean up"
   ]
  },
  {
   "cell_type": "markdown",
   "metadata": {
    "collapsed": true
   },
   "source": [
    "# Accessing the Internet\n",
    "\n",
    "```\n",
    "import urllib\n",
    "```\n",
    "\n",
    "Each web page is treated like a file."
   ]
  },
  {
   "cell_type": "code",
   "execution_count": 61,
   "metadata": {
    "collapsed": true
   },
   "outputs": [],
   "source": [
    "# Example\n",
    "\n",
    "import urllib\n",
    "\n",
    "f = urllib.request.urlopen('http://www.ucla.edu')"
   ]
  },
  {
   "cell_type": "code",
   "execution_count": 62,
   "metadata": {},
   "outputs": [
    {
     "data": {
      "text/plain": [
       "http.client.HTTPResponse"
      ]
     },
     "execution_count": 62,
     "metadata": {},
     "output_type": "execute_result"
    }
   ],
   "source": [
    "type(f)"
   ]
  },
  {
   "cell_type": "code",
   "execution_count": 63,
   "metadata": {},
   "outputs": [
    {
     "data": {
      "text/plain": [
       "'http://www.ucla.edu'"
      ]
     },
     "execution_count": 63,
     "metadata": {},
     "output_type": "execute_result"
    }
   ],
   "source": [
    "f.geturl()"
   ]
  },
  {
   "cell_type": "code",
   "execution_count": 64,
   "metadata": {},
   "outputs": [
    {
     "data": {
      "text/plain": [
       "list"
      ]
     },
     "execution_count": 64,
     "metadata": {},
     "output_type": "execute_result"
    }
   ],
   "source": [
    "# HTML header\n",
    "type(f.getheaders())"
   ]
  },
  {
   "cell_type": "code",
   "execution_count": 65,
   "metadata": {},
   "outputs": [
    {
     "name": "stdout",
     "output_type": "stream",
     "text": [
      "('Content-Type', 'text/html; charset=UTF-8')\n",
      "('Vary', 'Accept-Encoding')\n",
      "('Set-Cookie', 'PHPSESSID=nlisr3vl1c7dckdffkcq11ppk6; path=/')\n",
      "('Expires', 'Thu, 19 Nov 1981 08:52:00 GMT')\n",
      "('Cache-Control', 'no-store, no-cache, must-revalidate, post-check=0, pre-check=0, max-age=86400, public, must-revalidate, proxy-revalidate')\n",
      "('Pragma', 'no-cache')\n",
      "('Transfer-Encoding', 'chunked')\n",
      "('Date', 'Wed, 19 Jul 2017 22:58:31 GMT')\n",
      "('Age', '24')\n",
      "('Connection', 'close')\n",
      "('X-Cache', 'HIT')\n"
     ]
    }
   ],
   "source": [
    "for field in f.getheaders():\n",
    "    print(field)"
   ]
  },
  {
   "cell_type": "code",
   "execution_count": 66,
   "metadata": {},
   "outputs": [
    {
     "data": {
      "text/plain": [
       "[('Content-Type', 'text/html;charset=UTF-8'),\n",
       " ('Httpd-Identifier', 'web-c5a4a157c69161201c18e2fbd3e4b80f'),\n",
       " ('Server', 'Apache-Coyote/1.1'),\n",
       " ('x-Instance-Name', 'i13prod-bf8dfa6-0-207.1'),\n",
       " ('X-UA-Compatible', 'IE=Edge'),\n",
       " ('Vary', 'Accept-Encoding'),\n",
       " ('Cache-Control', 'public, max-age=43'),\n",
       " ('Date', 'Wed, 19 Jul 2017 22:58:31 GMT'),\n",
       " ('Transfer-Encoding', 'chunked'),\n",
       " ('Connection', 'close'),\n",
       " ('Connection', 'Transfer-Encoding')]"
      ]
     },
     "execution_count": 66,
     "metadata": {},
     "output_type": "execute_result"
    }
   ],
   "source": [
    "# Check the header of another web site\n",
    "\n",
    "f2 = urllib.request.urlopen('http://www.latimes.com')\n",
    "f2.getheaders()"
   ]
  },
  {
   "cell_type": "code",
   "execution_count": 67,
   "metadata": {},
   "outputs": [
    {
     "data": {
      "text/plain": [
       "bytes"
      ]
     },
     "execution_count": 67,
     "metadata": {},
     "output_type": "execute_result"
    }
   ],
   "source": [
    "# Read the contents of the page\n",
    "f = urllib.request.urlopen('http://www.ucla.edu')\n",
    "html = f.read()\n",
    "type(html)"
   ]
  },
  {
   "cell_type": "code",
   "execution_count": 68,
   "metadata": {},
   "outputs": [
    {
     "data": {
      "text/plain": [
       "str"
      ]
     },
     "execution_count": 68,
     "metadata": {},
     "output_type": "execute_result"
    }
   ],
   "source": [
    "# convert bytes to character string\n",
    "\n",
    "html = html.decode()\n",
    "type(html)"
   ]
  },
  {
   "cell_type": "code",
   "execution_count": 69,
   "metadata": {},
   "outputs": [
    {
     "name": "stdout",
     "output_type": "stream",
     "text": [
      "The word \"education\" appears 6 times in http://www.nytimes.com\n"
     ]
    }
   ],
   "source": [
    "# word count in a web page\n",
    "\n",
    "import urllib\n",
    "import re\n",
    "\n",
    "url = 'http://www.nytimes.com'\n",
    "keyword = 'education'              # what about (E)ducation?\n",
    "\n",
    "r = urllib.request.urlopen(url)\n",
    "html = r.read()\n",
    "html = html.decode()\n",
    "\n",
    "x = re.findall(keyword, html)\n",
    "#x = re.findall(keyword.lower(), html.lower())\n",
    "\n",
    "print('The word \"{}\" appears {} times in {}'.format(keyword, len(x), url))"
   ]
  },
  {
   "cell_type": "code",
   "execution_count": 70,
   "metadata": {},
   "outputs": [
    {
     "name": "stdout",
     "output_type": "stream",
     "text": [
      "http://www.nytimes.com/services/xml/rss/nyt/HomePage.xml\n",
      "http://mobile.nytimes.com\n",
      "http://mobile.nytimes.com\n",
      "http://www.nytimes.com/content/help/site/ie9-support.html\n",
      "http://cn.nytimes.com\n",
      "http://www.nytimes.com/pages/todayspaper/index.html\n",
      "http://www.stitcher.com/podcast/the-new-york-times/the-daily-10\n",
      "http://www.nytimes.com/spotlight/times-tips?contentCollection=smarter-living\n",
      "http://www.nytimes.com/video/the-daily-360\n",
      "http://www.nytimes.com/pages/opinion/index.html\n"
     ]
    }
   ],
   "source": [
    "# print out all the the http:// links in a page\n",
    "\n",
    "import urllib, re\n",
    "url = 'http://www.nytimes.com'\n",
    "r = urllib.request.urlopen(url)\n",
    "html = r.read().decode()\n",
    "links = re.findall('href=\"(http://.*?)\"', html)\n",
    "for link in links[0:10]:          # we are printing only the first few\n",
    "    print(link)"
   ]
  },
  {
   "cell_type": "markdown",
   "metadata": {},
   "source": [
    "## Parsing HTML yourself vs use a professional library\n",
    "\n",
    "While it is possible to use regular expression to parse HTML pages, the code can quickly get messy. It is useful to use the BeautifulSoup library to parse HTML.\n",
    "\n",
    "Installing BeautifulSoup on your computer is similar to installing `spyder`. In a terminal, type the command:\n",
    "```\n",
    "conda install beautifulsoup4\n",
    "```\n",
    "and answer \"Y(es)\" to the question. (Don't miss the \"4\" in \"beautifulsoup4\")\n"
   ]
  },
  {
   "cell_type": "code",
   "execution_count": 71,
   "metadata": {},
   "outputs": [
    {
     "name": "stdout",
     "output_type": "stream",
     "text": [
      "http://www.nytimes.com/content/help/site/ie9-support.html\n",
      "#top-news\n",
      "#site-index-navigation\n",
      "http://cn.nytimes.com\n",
      "https://www.nytimes.com/es/\n",
      "https://www.nytimes.com/\n",
      "http://www.nytimes.com/pages/todayspaper/index.html\n",
      "https://www.nytimes.com/video\n",
      "https://www.nytimes.com/pages/world/index.html\n",
      "https://www.nytimes.com/pages/national/index.html\n"
     ]
    }
   ],
   "source": [
    "import bs4\n",
    "import urllib\n",
    "\n",
    "url = 'http://www.nytimes.com'\n",
    "html = urllib.request.urlopen(url).read().decode()\n",
    "soup = bs4.BeautifulSoup(html, \"html.parser\")\n",
    "tags = soup('a')\n",
    "for tag in tags[0:10]:            # we are printing only the first few\n",
    "    txt = tag.get('href')\n",
    "    print(txt)"
   ]
  },
  {
   "cell_type": "code",
   "execution_count": 72,
   "metadata": {},
   "outputs": [
    {
     "name": "stdout",
     "output_type": "stream",
     "text": [
      "http://www.nytimes.com/content/help/site/ie9-support.html\n",
      "http://cn.nytimes.com\n",
      "https://www.nytimes.com/es/\n",
      "https://www.nytimes.com/\n",
      "http://www.nytimes.com/pages/todayspaper/index.html\n",
      "https://www.nytimes.com/video\n",
      "https://www.nytimes.com/pages/world/index.html\n",
      "https://www.nytimes.com/pages/national/index.html\n"
     ]
    }
   ],
   "source": [
    "import bs4\n",
    "import urllib\n",
    "\n",
    "url = 'http://www.nytimes.com'\n",
    "html = urllib.request.urlopen(url).read().decode()\n",
    "soup = bs4.BeautifulSoup(html, \"html.parser\")\n",
    "tags = soup('a')\n",
    "for tag in tags[0:10]:            # we are printing only the first few\n",
    "    txt = tag.get('href')\n",
    "    if not txt.startswith('#'):\n",
    "        print(txt)"
   ]
  },
  {
   "cell_type": "code",
   "execution_count": null,
   "metadata": {
    "collapsed": true
   },
   "outputs": [],
   "source": []
  }
 ],
 "metadata": {
  "kernelspec": {
   "display_name": "Python 3",
   "language": "python",
   "name": "python3"
  },
  "language_info": {
   "codemirror_mode": {
    "name": "ipython",
    "version": 3
   },
   "file_extension": ".py",
   "mimetype": "text/x-python",
   "name": "python",
   "nbconvert_exporter": "python",
   "pygments_lexer": "ipython3",
   "version": "3.5.3"
  }
 },
 "nbformat": 4,
 "nbformat_minor": 2
}
